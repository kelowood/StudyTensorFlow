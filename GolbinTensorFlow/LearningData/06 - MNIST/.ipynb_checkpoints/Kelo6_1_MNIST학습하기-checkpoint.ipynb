{
 "cells": [
  {
   "cell_type": "code",
   "execution_count": 2,
   "metadata": {},
   "outputs": [
    {
     "name": "stdout",
     "output_type": "stream",
     "text": [
      "Successfully downloaded train-images-idx3-ubyte.gz 9912422 bytes.\n",
      "Extracting ./mnist/data/train-images-idx3-ubyte.gz\n",
      "Successfully downloaded train-labels-idx1-ubyte.gz 28881 bytes.\n",
      "Extracting ./mnist/data/train-labels-idx1-ubyte.gz\n",
      "Successfully downloaded t10k-images-idx3-ubyte.gz 1648877 bytes.\n",
      "Extracting ./mnist/data/t10k-images-idx3-ubyte.gz\n",
      "Successfully downloaded t10k-labels-idx1-ubyte.gz 4542 bytes.\n",
      "Extracting ./mnist/data/t10k-labels-idx1-ubyte.gz\n"
     ]
    }
   ],
   "source": [
    "import tensorflow as tf\n",
    "\n",
    "# 텐서플로우 예제 mnist 튜토리얼에서 input_data 라는 클래스를 가져온다.\n",
    "from tensorflow.examples.tutorials.mnist import input_data as mnist_input_data\n",
    "\n",
    "# 이 코드에서 mnist 정보를 다운로드 받고 레이블 데이터를 원-핫 인코딩 방식으로 읽어들인다.\n",
    "mnist = mnist_input_data.read_data_sets(\"./mnist/data/\", one_hot=True)"
   ]
  },
  {
   "cell_type": "code",
   "execution_count": 4,
   "metadata": {},
   "outputs": [],
   "source": [
    "# MNIST 의 손글씨 이미지는 28*28 픽셀(784)로 이루어져 있다.\n",
    "# 그리고 레이블은 0부터 9까지의 숫자이므로 10개의 분류로 나눌 수 있다.\n",
    "# 그러므로 입력과 출력 플레이스 홀더는 아래와 같이 구성할 수 있다.\n",
    "\n",
    "X = tf.placeholder(tf.float32, [None, 784]) # 784 픽셀\n",
    "Y = tf.placeholder(tf.float32, [None, 10]) # 10종류의 숫자\n",
    "\n",
    "# 보통 데이터를 적당한 크기로 나누어서 학습 시키는 것을 우리는 미니배치(minibatch)라 부른다.\n",
    "# X, Y 텐서의 첫번째 차원이 None으로 지정되어 있다. \n",
    "# 이 자리에는 한번에 학습시킬 MNIST 이미지의 개수를 지정하는 값이 들어간다. 즉 배치크기가 지정되는 것이다.\n",
    "# 원하는 크기를 명시해주는 방법도 있지만, 학습할 데이터를 바꿔가면서 실험을 할때는 None으로 해주면\n",
    "# 텐서플로우가 알아서 계산한다."
   ]
  },
  {
   "cell_type": "code",
   "execution_count": 5,
   "metadata": {},
   "outputs": [],
   "source": [
    "# 이제 아래와 같은 형태의 신경망을 만들어보고자 한다.\n",
    "# 784 (특징 갯수) =>\n",
    "# 256 (첫번째 은닉층 뉴런 갯수) =>\n",
    "# 256 (두번째 은닉층 뉴런 갯수) =>\n",
    "# 10 (결과값 분류 갯수)\n",
    "\n",
    "W1 = tf.Variable(tf.random_normal([784, 256], stddev=0.01))\n",
    "b1 = tf.Variable(tf.zeros([256]))\n",
    "L1 = tf.nn.relu(tf.add(tf.matmul(X, W1), b1))\n",
    "\n",
    "W2 = tf.Variable(tf.random_normal([256, 256], stddev=0.01))\n",
    "b2 = tf.Variable(tf.zeros([256]))\n",
    "L2 = tf.nn.relu(tf.add(tf.matmul(L1, W2), b2))\n",
    "\n",
    "W3 = tf.Variable(tf.random_normal([256, 10], stddev=0.01))\n",
    "b3 = tf.Variable(tf.zeros([10]))\n",
    "model = tf.add(tf.matmul(L2, W3), b3)\n",
    "\n",
    "# 여기서 책과는 다르게 편향도 추가해 보았다."
   ]
  },
  {
   "cell_type": "code",
   "execution_count": 6,
   "metadata": {},
   "outputs": [],
   "source": [
    "# 이제 손실값을 처리해보자\n",
    "\n",
    "cost = tf.reduce_mean(\n",
    "    tf.nn.softmax_cross_entropy_with_logits(\n",
    "        logits=model,\n",
    "        labels=Y))\n",
    "optimizer = tf.train.AdamOptimizer(0.001).minimize(cost)\n"
   ]
  },
  {
   "cell_type": "code",
   "execution_count": 7,
   "metadata": {},
   "outputs": [],
   "source": [
    "# 세션 시작\n",
    "init = tf.global_variables_initializer()\n",
    "sess = tf.Session()\n",
    "sess.run(init)"
   ]
  },
  {
   "cell_type": "code",
   "execution_count": 8,
   "metadata": {},
   "outputs": [
    {
     "name": "stdout",
     "output_type": "stream",
     "text": [
      "Epoch: 0001 Avg. cost = 0.404\n",
      "Epoch: 0002 Avg. cost = 0.147\n",
      "Epoch: 0003 Avg. cost = 0.097\n",
      "Epoch: 0004 Avg. cost = 0.068\n",
      "Epoch: 0005 Avg. cost = 0.050\n",
      "Epoch: 0006 Avg. cost = 0.039\n",
      "Epoch: 0007 Avg. cost = 0.030\n",
      "Epoch: 0008 Avg. cost = 0.025\n",
      "Epoch: 0009 Avg. cost = 0.019\n",
      "Epoch: 0010 Avg. cost = 0.018\n",
      "Epoch: 0011 Avg. cost = 0.018\n",
      "Epoch: 0012 Avg. cost = 0.013\n",
      "Epoch: 0013 Avg. cost = 0.011\n",
      "Epoch: 0014 Avg. cost = 0.012\n",
      "Epoch: 0015 Avg. cost = 0.010\n",
      "최적화 완료!\n"
     ]
    }
   ],
   "source": [
    "# 이제 학습 진행 로직을 진행해보자\n",
    "\n",
    "batch_size = 100\n",
    "total_batch = int(mnist.train.num_examples / batch_size)\n",
    "# mnist에서는 데이터 수가 매우 크기 땜누에 학습에 미니배치를 사용한다.\n",
    "# 미니 배치의 크기는 100이고, 학습 데이터 총 갯수인 mnist.train.num_examples를 배치 크기로 나누면\n",
    "# 미니배치가 총 몇개인지를 알수 있다.\n",
    "\n",
    "# MNIST 데이터 전체를 학습하는 일을 총 15번 반복한다.\n",
    "# 여기에서 학습데이터 전체를 한바퀴 도는 것을 에포크(epoch)라 부른다.\n",
    "for epoch in range(15):\n",
    "    total_cost = 0\n",
    "    \n",
    "    for i in range(total_batch):\n",
    "        # 반복문 안에서 배치 사이즈 만큼의 배치를 가져온다.\n",
    "        batch_xs, batch_ys = mnist.train.next_batch(batch_size)\n",
    "        \n",
    "        _, cost_val = sess.run(\n",
    "            [optimizer, cost], \n",
    "            feed_dict={X: batch_xs, Y: batch_ys})\n",
    "        \n",
    "        total_cost += cost_val\n",
    "    \n",
    "    print('Epoch:', '%04d' % (epoch + 1), 'Avg. cost =', '{:.3f}'.format(total_cost / total_batch))\n",
    "    \n",
    "print('최적화 완료!')"
   ]
  },
  {
   "cell_type": "code",
   "execution_count": 9,
   "metadata": {},
   "outputs": [
    {
     "name": "stdout",
     "output_type": "stream",
     "text": [
      "정확도: 0.9812\n"
     ]
    }
   ],
   "source": [
    "# 이제 학습결과가 잘 나오는지 확인해볼 시간이다.\n",
    "\n",
    "is_correct = tf.equal(tf.argmax(model, 1), tf.argmax(Y, 1))\n",
    "accurary = tf.reduce_mean(tf.cast(is_correct, tf.float32))\n",
    "print('정확도:', sess.run(accurary, feed_dict={X: mnist.test.images, Y: mnist.test.labels}))\n"
   ]
  }
 ],
 "metadata": {
  "kernelspec": {
   "display_name": "Python 3",
   "language": "python",
   "name": "python3"
  },
  "language_info": {
   "codemirror_mode": {
    "name": "ipython",
    "version": 3
   },
   "file_extension": ".py",
   "mimetype": "text/x-python",
   "name": "python",
   "nbconvert_exporter": "python",
   "pygments_lexer": "ipython3",
   "version": "3.6.3"
  }
 },
 "nbformat": 4,
 "nbformat_minor": 2
}
