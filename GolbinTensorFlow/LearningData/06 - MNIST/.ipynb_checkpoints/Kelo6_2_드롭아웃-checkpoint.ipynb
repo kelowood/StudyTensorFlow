{
 "cells": [
  {
   "cell_type": "code",
   "execution_count": 1,
   "metadata": {},
   "outputs": [],
   "source": [
    "# 과적합(Overfitting)\n",
    "# 과적합이란 학습 데이터를 사용해서 합습했을시 결과가 잘 맞지만, \n",
    "# 학습 데이터에만 너무 맞춰져있어서 그 외의 데이터에는 잘 맞지 않는 현상을 뜻한다.\n",
    "# 쉽게말해 학습 데이터들에 대해서만 예측을 잘 하고, 정작 실제 데이터는 예측을 못하는 것을 말한다.\n",
    "\n",
    "# 드롭아웃(Dropout)이란?\n",
    "# 과적합 현상을 해결하기 위한 방법론이다.\n",
    "# 방법은 상당히 단순한 편으로 학습할때 전체 신경망중에서 일부만을 사용하도록 하는 것이다.\n",
    "# 또한 학습 회차마다 신경망을 다르게 설정하도록 한다."
   ]
  },
  {
   "cell_type": "code",
   "execution_count": 2,
   "metadata": {},
   "outputs": [
    {
     "name": "stdout",
     "output_type": "stream",
     "text": [
      "Extracting ./mnist/data/train-images-idx3-ubyte.gz\n",
      "Extracting ./mnist/data/train-labels-idx1-ubyte.gz\n",
      "Extracting ./mnist/data/t10k-images-idx3-ubyte.gz\n",
      "Extracting ./mnist/data/t10k-labels-idx1-ubyte.gz\n"
     ]
    }
   ],
   "source": [
    "# 앞의 6.1에서 작업하였던 코드에 적용하여 보자.\n",
    "# 신경망을 만들기 전까지는 이전 코드와 같다.\n",
    "\n",
    "import tensorflow as tf\n",
    "from tensorflow.examples.tutorials.mnist import input_data as mnist_input_data\n",
    "\n",
    "# 이 코드에서 mnist 정보를 다운로드 받고 레이블 데이터를 원-핫 인코딩 방식으로 읽어들인다.\n",
    "mnist = mnist_input_data.read_data_sets(\"./mnist/data/\", one_hot=True)\n",
    "\n",
    "# MNIST 의 손글씨 이미지는 28*28 픽셀(784)로 이루어져 있다.\n",
    "# 그리고 레이블은 0부터 9까지의 숫자이므로 10개의 분류로 나눌 수 있다.\n",
    "# 그러므로 입력과 출력 플레이스 홀더는 아래와 같이 구성할 수 있다.\n",
    "\n",
    "X = tf.placeholder(tf.float32, [None, 784]) # 784 픽셀\n",
    "Y = tf.placeholder(tf.float32, [None, 10]) # 10종류의 숫자"
   ]
  },
  {
   "cell_type": "code",
   "execution_count": 3,
   "metadata": {},
   "outputs": [],
   "source": [
    "# 784 (특징 갯수) => 256 (첫번째 은닉층 뉴런 갯수) => 256 (두번째 은닉층 뉴런 갯수) => 10 (결과값 분류 갯수)\n",
    "# 이제 여기서 중요한 점이 dropout 이라는 함수를 추가로 사용하였다는 점이다.\n",
    "\n",
    "dropoutRate = tf.placeholder(tf.bool)\n",
    "\n",
    "W1 = tf.Variable(tf.random_normal([784, 256], stddev=0.01))\n",
    "b1 = tf.Variable(tf.zeros([256]))\n",
    "L1 = tf.nn.relu(tf.add(tf.matmul(X, W1), b1))\n",
    "L1 = tf.nn.dropout(L1, dropoutRate)\n",
    "\n",
    "W2 = tf.Variable(tf.random_normal([256, 256], stddev=0.01))\n",
    "b2 = tf.Variable(tf.zeros([256]))\n",
    "L2 = tf.nn.relu(tf.add(tf.matmul(L1, W2), b2))\n",
    "L2 = tf.nn.dropout(L2, dropoutRate)\n",
    "\n",
    "W3 = tf.Variable(tf.random_normal([256, 10], stddev=0.01))\n",
    "b3 = tf.Variable(tf.zeros([10]))\n",
    "model = tf.add(tf.matmul(L2, W3), b3)\n",
    "\n",
    "# tf.nn.dropout(L1, dropoutRate) 에서 dropoutRate은 사용할 뉴런의 비율을 뜻한다. \n",
    "# 만약 dropoutRate가 0.8 이었다면 80%의 뉴런을 사용하는 것이다.\n",
    "\n",
    "# 여기서 dropoutRate라는 플레이스 홀더를 사용한 이유는\n",
    "# 학습이 끝나고 값 예측을 할때에는 신경망 전체를 사용해야 하기 때문이다.\n",
    "# 그런고로 학습할때에는 0.8 값을 넣고, 예측을 할때는 1을 넣도록 한다."
   ]
  },
  {
   "cell_type": "code",
   "execution_count": 4,
   "metadata": {},
   "outputs": [],
   "source": [
    "cost = tf.reduce_mean(\n",
    "    tf.nn.softmax_cross_entropy_with_logits(\n",
    "        logits=model,\n",
    "        labels=Y))\n",
    "optimizer = tf.train.AdamOptimizer(0.001).minimize(cost)"
   ]
  },
  {
   "cell_type": "code",
   "execution_count": 10,
   "metadata": {},
   "outputs": [
    {
     "name": "stdout",
     "output_type": "stream",
     "text": [
      "Epoch: 0001 Avg. cost = 0.430\n",
      "Epoch: 0002 Avg. cost = 0.166\n",
      "Epoch: 0003 Avg. cost = 0.116\n",
      "Epoch: 0004 Avg. cost = 0.088\n",
      "Epoch: 0005 Avg. cost = 0.072\n",
      "Epoch: 0006 Avg. cost = 0.060\n",
      "Epoch: 0007 Avg. cost = 0.051\n",
      "Epoch: 0008 Avg. cost = 0.046\n",
      "Epoch: 0009 Avg. cost = 0.040\n",
      "Epoch: 0010 Avg. cost = 0.039\n",
      "Epoch: 0011 Avg. cost = 0.031\n",
      "Epoch: 0012 Avg. cost = 0.030\n",
      "Epoch: 0013 Avg. cost = 0.030\n",
      "Epoch: 0014 Avg. cost = 0.027\n",
      "Epoch: 0015 Avg. cost = 0.024\n",
      "Epoch: 0016 Avg. cost = 0.025\n",
      "Epoch: 0017 Avg. cost = 0.024\n",
      "Epoch: 0018 Avg. cost = 0.021\n",
      "Epoch: 0019 Avg. cost = 0.021\n",
      "Epoch: 0020 Avg. cost = 0.020\n",
      "Epoch: 0021 Avg. cost = 0.020\n",
      "Epoch: 0022 Avg. cost = 0.018\n",
      "Epoch: 0023 Avg. cost = 0.019\n",
      "Epoch: 0024 Avg. cost = 0.018\n",
      "Epoch: 0025 Avg. cost = 0.016\n",
      "Epoch: 0026 Avg. cost = 0.018\n",
      "Epoch: 0027 Avg. cost = 0.017\n",
      "Epoch: 0028 Avg. cost = 0.015\n",
      "Epoch: 0029 Avg. cost = 0.015\n",
      "Epoch: 0030 Avg. cost = 0.015\n",
      "최적화 완료!\n"
     ]
    }
   ],
   "source": [
    "# 세션 시작\n",
    "init = tf.global_variables_initializer()\n",
    "sess = tf.Session()\n",
    "sess.run(init)\n",
    "\n",
    "batch_size = 100\n",
    "total_batch = int(mnist.train.num_examples / batch_size)\n",
    "\n",
    "# 여기에서 드롭아웃 기법을 적용한 뒤 학습을 진행하면 학습이 느리게 진행된다.\n",
    "# 그렇기 때문에 에포크를 2배인 30으로 늘려서 더 많이 학습해보도록 하자.\n",
    "\n",
    "for epoch in range(30):\n",
    "    total_cost = 0\n",
    "    \n",
    "    for i in range(total_batch):\n",
    "        # 반복문 안에서 배치 사이즈 만큼의 배치를 가져온다.\n",
    "        batch_xs, batch_ys = mnist.train.next_batch(batch_size)\n",
    "        \n",
    "        _, cost_val = sess.run(\n",
    "            [optimizer, cost], \n",
    "            feed_dict={X: batch_xs, Y: batch_ys, dropoutRate: 0.8})\n",
    "        \n",
    "        total_cost += cost_val\n",
    "    \n",
    "    print('Epoch:', '%04d' % (epoch + 1), 'Avg. cost =', '{:.3f}'.format(total_cost / total_batch))\n",
    "    \n",
    "print('최적화 완료!')"
   ]
  },
  {
   "cell_type": "code",
   "execution_count": 11,
   "metadata": {},
   "outputs": [
    {
     "name": "stdout",
     "output_type": "stream",
     "text": [
      "정확도: 0.9846\n"
     ]
    }
   ],
   "source": [
    "# 이제 학습결과가 잘 나오는지 확인해볼 시간이다.\n",
    "\n",
    "is_correct = tf.equal(tf.argmax(model, 1), tf.argmax(Y, 1))\n",
    "accurary = tf.reduce_mean(tf.cast(is_correct, tf.float32))\n",
    "print('정확도:', sess.run(\n",
    "    accurary, \n",
    "    feed_dict={\n",
    "        X: mnist.test.images, \n",
    "        Y: mnist.test.labels,\n",
    "        dropoutRate: 1}))\n",
    "\n",
    "sess.close()"
   ]
  },
  {
   "cell_type": "code",
   "execution_count": null,
   "metadata": {},
   "outputs": [],
   "source": []
  }
 ],
 "metadata": {
  "kernelspec": {
   "display_name": "Python 3",
   "language": "python",
   "name": "python3"
  },
  "language_info": {
   "codemirror_mode": {
    "name": "ipython",
    "version": 3
   },
   "file_extension": ".py",
   "mimetype": "text/x-python",
   "name": "python",
   "nbconvert_exporter": "python",
   "pygments_lexer": "ipython3",
   "version": "3.6.7"
  }
 },
 "nbformat": 4,
 "nbformat_minor": 2
}
