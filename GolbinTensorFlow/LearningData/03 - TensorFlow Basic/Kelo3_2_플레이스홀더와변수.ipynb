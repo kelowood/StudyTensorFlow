{
 "cells": [
  {
   "cell_type": "code",
   "execution_count": 27,
   "metadata": {},
   "outputs": [
    {
     "name": "stdout",
     "output_type": "stream",
     "text": [
      "Tensor(\"Placeholder_3:0\", shape=(?, 3), dtype=float32)\n"
     ]
    }
   ],
   "source": [
    "import tensorflow as tf\n",
    "\n",
    "# 플레이스 홀더란 그래프에 사용할 입력값을 실행시에 받는 매개변수이다.\n",
    "# 즉, 플레이스 홀더를 정의하였다면 Session을 만들고 실행(run)하는 시점에서 값을 넣어주어야 하는 것이다.\n",
    "# 아래 의미는 float32 타입의 임의행-3열의 행렬형 플레이스 홀더를 정의하는 것을 의미한다.\n",
    "X = tf.placeholder(tf.float32, [None, 3])\n",
    "print(X)"
   ]
  },
  {
   "cell_type": "code",
   "execution_count": 28,
   "metadata": {},
   "outputs": [
    {
     "name": "stdout",
     "output_type": "stream",
     "text": [
      "<tf.Variable 'Variable_14:0' shape=(3, 2) dtype=float32_ref>\n",
      "<tf.Variable 'Variable_15:0' shape=(2, 1) dtype=float32_ref>\n"
     ]
    }
   ],
   "source": [
    "# 위 텐서는 플레이스홀더형 텐서이며, 랭크는 2, 셰이프는 [?, 3]이다.\n",
    "\n",
    "# 실행시에 플레이스 홀더에 넣어줄 값을 지금 먼저 정의해보자\n",
    "x_data = [[1, 2, 3], [4, 5, 6]]\n",
    "# [2, 3] 셰이프의 값이므로 위의 형태와 맞게 된다.\n",
    "\n",
    "# 아래는 변수(Variable)의 정의이다.\n",
    "# 텐서플로에서의 변수는 그래프를 최적화하는 용도로 쓰이는 값으로, 학습 함수들이 학습한 결과를 갱신하기 위해 필요한 값이다.\n",
    "W = tf.Variable(tf.random_normal([3, 2]))\n",
    "b = tf.Variable(tf.random_normal([2, 1]))\n",
    "\n",
    "# 단, 현재 알아둬야 하는건 지금 이 프로그램의 W, b 는 학습을 할수 있는 형태가 아니다.\n",
    "# random_normal() 함수를 통하여 무작위 값을 가져오게 되는 형태이다.\n",
    "print(W)\n",
    "print(b)"
   ]
  },
  {
   "cell_type": "code",
   "execution_count": 29,
   "metadata": {},
   "outputs": [
    {
     "name": "stdout",
     "output_type": "stream",
     "text": [
      "Tensor(\"add_6:0\", shape=(2, 2), dtype=float32)\n"
     ]
    }
   ],
   "source": [
    "# 입력값과 변수들을 계산할 수식을 작성한다.\n",
    "# X와 W는 행렬이므로 tf.matmul() 행렬곱 함수를 사용한다.\n",
    "# 행렬이 아닐때는 tf.mul() 혹은 단순히 곱셈 연산자를 사용해도 된다.\n",
    "expr = tf.matmul(X, W) + b\n",
    "print(expr)\n",
    "\n",
    "# X는 ? * 3 행렬이고, W는 3행 2열이므로 tf.matmul(X, W)의 결과는 ? * 2 행렬이 나온다.\n",
    "# 여기서 2 * 1 행렬 b를 더할시 행렬곱 결과가 2 * 2 행렬이었을때 덧셈이 성립하고 b의 각 요소들을 더하게 된다."
   ]
  },
  {
   "cell_type": "code",
   "execution_count": 30,
   "metadata": {},
   "outputs": [
    {
     "name": "stdout",
     "output_type": "stream",
     "text": [
      "=== x_data ===\n",
      "[[1, 2, 3], [4, 5, 6]]\n",
      "=== W ===\n",
      "[[ 0.17287317  0.5795871 ]\n",
      " [ 0.04801483  1.1923442 ]\n",
      " [ 0.16774586 -1.7627997 ]]\n",
      "=== b ===\n",
      "[[0.03673092]\n",
      " [0.55994505]]\n"
     ]
    }
   ],
   "source": [
    "sess = tf.Session()\n",
    "sess.run(tf.global_variables_initializer())\n",
    "\n",
    "# tf.global_variables_initializer() 는 앞에서 정의한 변수 (위에서 random_normal()로 정의한것)를 초기화하는 함수이다.\n",
    "# 기존 학습 값들을 가져와서 사용하는 것이 아닌 첫 실행이라면 연산 실행전 변수를 초기화 하여야 한다.\n",
    "\n",
    "print(\"=== x_data ===\")\n",
    "print(x_data)\n",
    "print(\"=== W ===\")\n",
    "print(sess.run(W))\n",
    "print(\"=== b ===\")\n",
    "print(sess.run(b))"
   ]
  },
  {
   "cell_type": "code",
   "execution_count": 31,
   "metadata": {},
   "outputs": [
    {
     "name": "stdout",
     "output_type": "stream",
     "text": [
      "=== expr ===\n",
      "[[ 0.8088714 -2.2873929]\n",
      " [ 2.497987  -1.736784 ]]\n"
     ]
    }
   ],
   "source": [
    "# 플레이스 홀더가 포함된 그래프를 실행시 feed_dict을 통해서 입력값을 넣어 주어야 한다.\n",
    "# 그렇지 않으면 에러가 난다.\n",
    "print(\"=== expr ===\")\n",
    "print(sess.run(expr, feed_dict={X: x_data}))\n",
    "\n",
    "sess.close()"
   ]
  },
  {
   "cell_type": "code",
   "execution_count": null,
   "metadata": {},
   "outputs": [],
   "source": []
  }
 ],
 "metadata": {
  "kernelspec": {
   "display_name": "Python 3",
   "language": "python",
   "name": "python3"
  },
  "language_info": {
   "codemirror_mode": {
    "name": "ipython",
    "version": 3
   },
   "file_extension": ".py",
   "mimetype": "text/x-python",
   "name": "python",
   "nbconvert_exporter": "python",
   "pygments_lexer": "ipython3",
   "version": "3.6.7"
  }
 },
 "nbformat": 4,
 "nbformat_minor": 2
}
