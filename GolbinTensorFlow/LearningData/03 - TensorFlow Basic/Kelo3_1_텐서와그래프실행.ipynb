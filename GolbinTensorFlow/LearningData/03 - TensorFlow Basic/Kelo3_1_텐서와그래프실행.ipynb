{
 "cells": [
  {
   "cell_type": "code",
   "execution_count": 2,
   "metadata": {
    "scrolled": true
   },
   "outputs": [
    {
     "name": "stdout",
     "output_type": "stream",
     "text": [
      "Tensor(\"Const_1:0\", shape=(), dtype=string)\n"
     ]
    }
   ],
   "source": [
    "# 텐서플로우 라이브러리 임포트\n",
    "import tensorflow as tf\n",
    "\n",
    "# 상수 텐서 정의. 스트링으로 된 상수이며, hello 변수에 할당함.\n",
    "hello = tf.constant('Hello, TensorFlow!')\n",
    "# 정의한 텐서를 출력해본다.\n",
    "print(hello)"
   ]
  },
  {
   "cell_type": "code",
   "execution_count": 5,
   "metadata": {},
   "outputs": [
    {
     "name": "stdout",
     "output_type": "stream",
     "text": [
      "Tensor(\"Const_2:0\", shape=(), dtype=int32)\n",
      "Tensor(\"Const_3:0\", shape=(), dtype=int32)\n",
      "Tensor(\"Add:0\", shape=(), dtype=int32)\n"
     ]
    }
   ],
   "source": [
    "# hello의 자료형은 tensor이며 이것은 상수를 담고 있다.\n",
    "# 랭크는 0이며, 셰이프는 []\n",
    "\n",
    "a = tf.constant(10)\n",
    "b = tf.constant(32)\n",
    "c = tf.add(a, b)\n",
    "print(a)\n",
    "print(b)\n",
    "print(c)"
   ]
  },
  {
   "cell_type": "code",
   "execution_count": 7,
   "metadata": {},
   "outputs": [
    {
     "name": "stdout",
     "output_type": "stream",
     "text": [
      "b'Hello, TensorFlow!'\n",
      "[10, 32, 42]\n"
     ]
    }
   ],
   "source": [
    "# 변수 a, b는 int32 타입의 상수를 담은 텐서이며,\n",
    "# 변수 c는 42가 아닌 add라는 형태의 텐서이다.\n",
    "# 이 텐서 연산들이 모여서 그래프가 된다. 그래프 == 텐서들의 연산 모음\n",
    "# 텐서플로에서는 텐서들의 연산을 정의하여 그래프를 만들고, 이후 필요할때 실제 연산을 수행하는 코드를 넣는다.\n",
    "# 이러한 수행 방식을 지연 실행(lazy evaluation)이라고 부른다.\n",
    "# 아래 코드에서 위에 정의한 그래프를 실행해보도록 한다.\n",
    "\n",
    "# 그래프의 실행은 Session 내에서 이루어진다.\n",
    "sess = tf.Session()\n",
    "\n",
    "# hello 텐서의 수행\n",
    "print(sess.run(hello))\n",
    "# a, b, c 텐서의 수행 (배열로 각각 수행한다)\n",
    "print(sess.run([a, b, c]))\n",
    "\n",
    "sess.close()"
   ]
  },
  {
   "cell_type": "code",
   "execution_count": null,
   "metadata": {},
   "outputs": [],
   "source": [
    "# 정상적으로 실행된 그래프를 확인 할 수 있다."
   ]
  }
 ],
 "metadata": {
  "kernelspec": {
   "display_name": "Python 3",
   "language": "python",
   "name": "python3"
  },
  "language_info": {
   "codemirror_mode": {
    "name": "ipython",
    "version": 3
   },
   "file_extension": ".py",
   "mimetype": "text/x-python",
   "name": "python",
   "nbconvert_exporter": "python",
   "pygments_lexer": "ipython3",
   "version": "3.6.7"
  }
 },
 "nbformat": 4,
 "nbformat_minor": 2
}
