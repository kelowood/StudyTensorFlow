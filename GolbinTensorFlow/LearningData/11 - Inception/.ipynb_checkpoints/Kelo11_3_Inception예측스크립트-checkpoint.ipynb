{
 "cells": [
  {
   "cell_type": "code",
   "execution_count": 3,
   "metadata": {},
   "outputs": [],
   "source": [
    "# 이 스크립트를 작성 및 실행전 아래와 같은 작업을 하였다.\n",
    "# \n",
    "# 1) 자료 다운로드 \n",
    "# http://download.tensorflow.org/example_images/flowers_photos.tgz 를 받고 압축을 푼다.\n",
    "#\n",
    "# 2) 디렉토리 및 파일 위치 맞추기\n",
    "# 현재 기본 디렉토리 (이 파일이 있는 디렉토리)에 workspace라는 디렉토리를 생성한다.\n",
    "# 다운로드된 파일의 압축을 풀고 아래와 같이 파일과 디렉토리를 맞춘다.\n",
    "# /기본디렉토리\n",
    "#     /retrain.py\n",
    "#     /workspace\n",
    "#         /flower_photos\n",
    "#             /daisy\n",
    "#             /dandelion\n",
    "#             /roses\n",
    "#             /sunflowers\n",
    "#             /tulips\n",
    "#\n",
    "# 3) retrain.py 실행 -> 꽃사진 학습\n",
    "# 기본 디렉토리 폴더에서 아래와 같이 retrain.py 파이썬 명령을 실행하였다.\n",
    "# C:\\...\\ python retrain.py \\\n",
    "#         --bottleneck_dir=workspace\\bottlenecks \\         학습할 사진을 인셉션용 학습 데이터로 변환해서 저장해둘 디렉토리\n",
    "#         --model_dir=workspace\\inception \\                인셉션 모델을 내려받을 경로\n",
    "#         --output_graph=workspace\\flowers_graph.pb \\      학습된 모델(.pb)을 저장할 경로\n",
    "#         --output_labels=workspace\\flowers_labels.txt \\   레이블 이름들을 저장해둘 파일 경로\n",
    "#         --image_dir workspace\\flower_photos \\            원본 이미지 경로\n",
    "#         --how_many_training_steps 1000                   반복 학습 횟수\n",
    "# "
   ]
  },
  {
   "cell_type": "code",
   "execution_count": 2,
   "metadata": {},
   "outputs": [],
   "source": [
    "import tensorflow as tf\n",
    "import matplotlib.pyplot as plt\n",
    "import matplotlib.image as mpimg\n",
    "import sys"
   ]
  },
  {
   "cell_type": "code",
   "execution_count": 3,
   "metadata": {},
   "outputs": [],
   "source": [
    "# 텐서플로우의 유용한 모듈인 app.flags를 사용하여 스크립트에서 받을 옵션과 기본값을 설정한다.\n",
    "# tf.app 모듈을 사용하면 터미널이나 명령 프롬프트에서 입력받는 옵션을 쉽게 처리할 수 있다.\n",
    "tf.app.flags.DEFINE_string(\n",
    "    \"output_graph\",\n",
    "    \"./workspace/flowers_graph.pb\",\n",
    "    \"학습된 신경망이 저장된 위치\")\n",
    "tf.app.flags.DEFINE_string(\n",
    "    \"output_labels\",\n",
    "    \"./workspace/flowers_labels.txt\",\n",
    "    \"학습할 레이블 데이터 파일\")\n",
    "tf.app.flags.DEFINE_boolean(\n",
    "    \"show_image\",\n",
    "    True,\n",
    "    \"이미지 추론 후 이미지를 보여줍니다.\")\n",
    "FLAGS = tf.app.flags.FLAGS\n",
    "# 이제 FLAGS.output_graph, FLAGS.output_labels, FLAGS.show_image 로 해당 값에 접근할 수가 있다."
   ]
  },
  {
   "cell_type": "code",
   "execution_count": 4,
   "metadata": {},
   "outputs": [],
   "source": [
    "# retrain.py 를 이용하여 학습을 진행하면 workspace 디렉토리의 flowers_labels.txt 파일에 꽃의 이름을 전부 저장해두게 된다.\n",
    "# 한줄에 하나씩 들어가 있고, 줄번호를 해당 꽃 이름의 인덱스로 하여 학습을 진행하였다.\n",
    "# flowers_labels.txt\n",
    "# daisy\n",
    "# dandelion\n",
    "# roses\n",
    "# sunflowers\n",
    "# tulips"
   ]
  },
  {
   "cell_type": "code",
   "execution_count": null,
   "metadata": {},
   "outputs": [],
   "source": [
    "# 그리고 예측 후 출력되는 값은 아래와 같이 모든 인덱스에 대하여 총합이 1인 확률을 나열한 softmax값이 된다.\n",
    "\n",
    "# [ 0.65098846, 0.1175265,  0.01479027, 0.20992769, 0.00676709]\n",
    "#   daisy       dandelion   roses       sunflowers  tulips"
   ]
  },
  {
   "cell_type": "code",
   "execution_count": null,
   "metadata": {},
   "outputs": [],
   "source": [
    "def main(_):\n",
    "    # 테스트 결과를 확인할 때 사용하기 위해 파일에 담긴 꽃 이름들을 가져와 배열로 저장해 둔다.\n",
    "    # 이름을 출력할때 사용할 것이다.\n",
    "    labels = [line.rstrip() for line in tf.gfile.GFile(FLAGS.output_labels)]\n",
    "    \n",
    "    # 아까 전 retrain.py를 통한 학습으로 flowers_graph.pb 파일이 생성되었었다.\n",
    "    # 이것은 학습 결과를 프로토콜 버퍼(Protocol Buffers, pb) 데이터 형식으로 저장해둔 파일이다.\n",
    "    # 꽃 사진 예측을 위해 이 파일을 읽어서 신경망 그래프를 생성할 것이다.\n",
    "    # 텐서플로우를 이용하면 아래처럼 매우 쉽게 처리할 수 있다.\n",
    "    with tf.gfile.FastGFile(FLAGS.output_graph, 'rb') as fp:\n",
    "        graph_def = tf.GraphDef()\n",
    "        graph_def.ParseFromString(fp.read())\n",
    "        tf.import_graph_def(graph_def, name='')\n",
    "    \n",
    "    with tf.Session() as sess:\n",
    "        # 읽어들인 신경망 모델에서 예측에 사용할 텐서를 지정한다.\n",
    "        # 저장되어 있는 모델에서 최종 출력층은 'final_result:0'라는 이름의 텐서이다.\n",
    "        logits = sess.graph.get_tensor_by_name('final_result:0')\n",
    "        \n",
    "        # 예측 스크립트를 실행할 때 주어진 이름의 이미지 파일을 읽어들인뒤, 그 이미지를 예측 모델에 넣어 예측을 실행한다.\n",
    "        # 아래의 DecodeJpeg/contents:0은 이미지 데이터를 입력값으로 넣을 플레이스 홀더 이름이다.\n",
    "        image = tf.gfile.FastGFile(sys.argv[1], 'rb').read()\n",
    "        prediction = sess.run(logits, {'DecodeJpeg/contents:0': image})\n",
    "        \n",
    "    # 프로토콜 버퍼(pb) 방식으로 저장되어 있는 타 모델들도 이런 방식으로 쉽게 읽어들여서 사용할 수 있다.\n",
    "    \n",
    "    # 이제 예측 결과를 출력하는 코드를 작성해 보자.\n",
    "    # 다음 코드로 앞에서 읽어온 레이블 (꽃 이름)들에 해당하는 모든 예측 결과를 출력한다.\n",
    "    print('=== 예측 결과 ===')\n",
    "    for i in range(len(labels)):\n",
    "        name = labels[i]\n",
    "        score = prediction[0][i]\n",
    "        print('%s (%.2f%%)' % (name, score * 100))\n",
    "        \n",
    "    # 그리고 주어진 이름의 이미지 파일을 matplotlib 모듈을 이용하여 출력한다.\n",
    "    if FLAGS.show_image:\n",
    "        img = mpimg.imread(sys.argv[1])\n",
    "        plt.imshow(img)\n",
    "        plt.show()\n",
    "\n",
    "# 마지막으로 스크립트 실행시 주어진 옵션들과 함께 main() 함수를 실행하는 코드를 작성해 준다.\n",
    "if __name__ == \"__main__\":\n",
    "    tf.app.run()\n",
    "    \n",
    "# 이것을 py 파일로 만들어서 실행해 보도록 하자. 이 파일은 명령프롬프트에서 아래와 같이 열면 된다.\n",
    "# > python [파이썬파일명] workspace/flower_photos/[원하는꽃_디렉토리]/[이미지파일명].jpg"
   ]
  }
 ],
 "metadata": {
  "kernelspec": {
   "display_name": "Python 3",
   "language": "python",
   "name": "python3"
  },
  "language_info": {
   "codemirror_mode": {
    "name": "ipython",
    "version": 3
   },
   "file_extension": ".py",
   "mimetype": "text/x-python",
   "name": "python",
   "nbconvert_exporter": "python",
   "pygments_lexer": "ipython3",
   "version": "3.6.7"
  }
 },
 "nbformat": 4,
 "nbformat_minor": 2
}
