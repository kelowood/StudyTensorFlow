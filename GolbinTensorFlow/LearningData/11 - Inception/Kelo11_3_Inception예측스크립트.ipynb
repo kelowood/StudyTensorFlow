{
 "cells": [
  {
   "cell_type": "code",
   "execution_count": 3,
   "metadata": {},
   "outputs": [],
   "source": [
    "# 이 스크립트를 작성 및 실행전 아래와 같은 작업을 하였다.\n",
    "# \n",
    "# 1) 자료 다운로드 \n",
    "# http://download.tensorflow.org/example_images/flowers_photos.tgz 를 받고 압축을 푼다.\n",
    "#\n",
    "# 2) 디렉토리 및 파일 위치 맞추기\n",
    "# 현재 기본 디렉토리 (이 파일이 있는 디렉토리)에 workspace라는 디렉토리를 생성한다.\n",
    "# 다운로드된 파일의 압축을 풀고 아래와 같이 파일과 디렉토리를 맞춘다.\n",
    "# /기본디렉토리\n",
    "#     /retrain.py\n",
    "#     /workspace\n",
    "#         /flower_photos\n",
    "#             /daisy\n",
    "#             /dandelion\n",
    "#             /roses\n",
    "#             /sunflowers\n",
    "#             /tulips\n",
    "#\n",
    "# 3) retrain.py 실행 -> 꽃사진 학습\n",
    "# 기본 디렉토리 폴더에서 아래와 같이 retrain.py 파이썬 명령을 실행하였다.\n",
    "# C:\\...\\ python retrain.py \\\n",
    "#         --bottleneck_dir=workspace\\bottlenecks \\         학습할 사진을 인셉션용 학습 데이터로 변환해서 저장해둘 디렉토리\n",
    "#         --model_dir=workspace\\inception \\                인셉션 모델을 내려받을 경로\n",
    "#         --output_graph=workspace\\flowers_graph.pb \\      학습된 모델(.pb)을 저장할 경로\n",
    "#         --output_labels=workspace\\flowers_labels.txt \\   레이블 이름들을 저장해둘 파일 경로\n",
    "#         --image_dir workspace\\flower_photos \\            원본 이미지 경로\n",
    "#         --how_many_training_steps 1000                   반복 학습 횟수\n",
    "# "
   ]
  },
  {
   "cell_type": "code",
   "execution_count": 4,
   "metadata": {},
   "outputs": [],
   "source": [
    "import tensorflow as tf\n",
    "import matplotlib.pyplot as plt\n",
    "import matplotlib.image as mpimg\n",
    "import sys"
   ]
  },
  {
   "cell_type": "code",
   "execution_count": 6,
   "metadata": {},
   "outputs": [],
   "source": [
    "# 텐서플로우의 유용한 모듈인 app.flags를 사용하여 스크립트에서 받을 옵션과 기본값을 설정한다.\n",
    "# tf.app 모듈을 사용하면 터미널이나 명령 프롬프트에서 입력받는 옵션을 쉽게 처리할 수 있다.\n",
    "tf.app.flags.DEFINE_string(\n",
    "    \"output_graph\",\n",
    "    \"workspace\\flowers_graph.pb\",\n",
    "    \"학습된 신경망이 저장된 위치\")\n",
    "tf.app.flags.DEFINE_string(\n",
    "    \"output_labels\",\n",
    "    \"workspace\\flowers_labels.txt\",\n",
    "    \"학습할 레이블 데이터 파일\")\n",
    "tf.app.flags.DEFINE_boolean(\n",
    "    \"show_image\",\n",
    "    True,\n",
    "    \"이미지 추론 후 이미지를 보여줍니다.\")\n",
    "FLAGS = tf.app.flags.FLAGS\n",
    "\n",
    "# retrain.py 를 이용하여 학습을 진행하면 workspace 디렉토리의 flowers_labels.txt 파일에 꽃의 이름을 전부 저장해두게 된다.\n",
    "# 한줄에 하나씩 들어가 있고, 줄번호를 해당 꽃 이름의 인덱스로 하여 학습을 진행하도록 한다."
   ]
  },
  {
   "cell_type": "code",
   "execution_count": null,
   "metadata": {},
   "outputs": [],
   "source": []
  }
 ],
 "metadata": {
  "kernelspec": {
   "display_name": "Python 3",
   "language": "python",
   "name": "python3"
  },
  "language_info": {
   "codemirror_mode": {
    "name": "ipython",
    "version": 3
   },
   "file_extension": ".py",
   "mimetype": "text/x-python",
   "name": "python",
   "nbconvert_exporter": "python",
   "pygments_lexer": "ipython3",
   "version": "3.6.7"
  }
 },
 "nbformat": 4,
 "nbformat_minor": 2
}
