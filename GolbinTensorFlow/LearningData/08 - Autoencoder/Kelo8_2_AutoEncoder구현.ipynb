{
 "cells": [
  {
   "cell_type": "code",
   "execution_count": 1,
   "metadata": {},
   "outputs": [
    {
     "name": "stdout",
     "output_type": "stream",
     "text": [
      "WARNING:tensorflow:From <ipython-input-1-fa49f05f2632>:22: read_data_sets (from tensorflow.contrib.learn.python.learn.datasets.mnist) is deprecated and will be removed in a future version.\n",
      "Instructions for updating:\n",
      "Please use alternatives such as official/mnist/dataset.py from tensorflow/models.\n",
      "WARNING:tensorflow:From c:\\develop\\python\\python_3_6_7\\lib\\site-packages\\tensorflow\\contrib\\learn\\python\\learn\\datasets\\mnist.py:260: maybe_download (from tensorflow.contrib.learn.python.learn.datasets.base) is deprecated and will be removed in a future version.\n",
      "Instructions for updating:\n",
      "Please write your own downloading logic.\n",
      "WARNING:tensorflow:From c:\\develop\\python\\python_3_6_7\\lib\\site-packages\\tensorflow\\contrib\\learn\\python\\learn\\datasets\\mnist.py:262: extract_images (from tensorflow.contrib.learn.python.learn.datasets.mnist) is deprecated and will be removed in a future version.\n",
      "Instructions for updating:\n",
      "Please use tf.data to implement this functionality.\n",
      "Extracting ./mnist/data/train-images-idx3-ubyte.gz\n",
      "WARNING:tensorflow:From c:\\develop\\python\\python_3_6_7\\lib\\site-packages\\tensorflow\\contrib\\learn\\python\\learn\\datasets\\mnist.py:267: extract_labels (from tensorflow.contrib.learn.python.learn.datasets.mnist) is deprecated and will be removed in a future version.\n",
      "Instructions for updating:\n",
      "Please use tf.data to implement this functionality.\n",
      "Extracting ./mnist/data/train-labels-idx1-ubyte.gz\n",
      "WARNING:tensorflow:From c:\\develop\\python\\python_3_6_7\\lib\\site-packages\\tensorflow\\contrib\\learn\\python\\learn\\datasets\\mnist.py:110: dense_to_one_hot (from tensorflow.contrib.learn.python.learn.datasets.mnist) is deprecated and will be removed in a future version.\n",
      "Instructions for updating:\n",
      "Please use tf.one_hot on tensors.\n",
      "Extracting ./mnist/data/t10k-images-idx3-ubyte.gz\n",
      "Extracting ./mnist/data/t10k-labels-idx1-ubyte.gz\n",
      "WARNING:tensorflow:From c:\\develop\\python\\python_3_6_7\\lib\\site-packages\\tensorflow\\contrib\\learn\\python\\learn\\datasets\\mnist.py:290: DataSet.__init__ (from tensorflow.contrib.learn.python.learn.datasets.mnist) is deprecated and will be removed in a future version.\n",
      "Instructions for updating:\n",
      "Please use alternatives such as official/mnist/dataset.py from tensorflow/models.\n"
     ]
    }
   ],
   "source": [
    "# 지도 학습 (Supervised learning)\n",
    "# 입력값<특징>과 원하는 결과<레이블>를 알려주고 학습하게 하는 방법\n",
    "# X, Y가 둘다 있어야 학습 시킬 수 있다.\n",
    "\n",
    "# 비지도 학습 (Unsupervised learning)\n",
    "# 입력값으로부터 데이터의 특징 <특징은 알다시피 입력값의 특징이다. 출력이 아니다!>을 찾아내는 학습방법\n",
    "# X만 있어도 학습 시킬 수 있다.\n",
    "\n",
    "# 비지도 학습중에서 가장 널리 쓰이는 신경망이 바로 오토인코더(Autoencoder)가 있다.\n",
    "\n",
    "# 오토인코더는 입력값과 출력값을 같게하는 신경망이고, 은닉층 수가 입력-출력값보다 적은점이 특징이다.\n",
    "# 이런 구조를 통해 입력 데이터를 압축하는 효과와 더불어 노이즈 제거에도 효과적이다.\n",
    "\n",
    "# 구현을 위해 tensorflow, numpy, matplotlib.pyplot을 임포팅하자\n",
    "# 그리고 MNIST 의 입력 데이터도 임포팅하자\n",
    "\n",
    "import tensorflow as tf\n",
    "import numpy as np\n",
    "import matplotlib.pyplot as plt\n",
    "\n",
    "from tensorflow.examples.tutorials.mnist import input_data\n",
    "mnist = input_data.read_data_sets(\"./mnist/data/\", one_hot=True)"
   ]
  },
  {
   "cell_type": "code",
   "execution_count": 2,
   "metadata": {},
   "outputs": [
    {
     "name": "stdout",
     "output_type": "stream",
     "text": [
      "X: Tensor(\"Placeholder:0\", shape=(?, 784), dtype=float32)\n"
     ]
    }
   ],
   "source": [
    "# 이번에는 아래와 같이 하이퍼파라미터로 사용될 옵션들을 따로 빼보자\n",
    "\n",
    "hp_learning_rate = 0.01  # 최적화 함수에서 사용할 학습률\n",
    "hp_training_epoch = 20   # 전체 데이터를 학습할 총 횟수(에포크수)\n",
    "hp_batch_size = 100      # 미니배치로 한번에 학습할 데이터의 갯수\n",
    "hp_num_hidden = 256      # 은닉층 뉴런 갯수\n",
    "hp_num_input = 28*28     # MNIST 이미지 픽셀수\n",
    "\n",
    "\n",
    "# 다음은 플레이스 홀더 정의다.\n",
    "# 이 모델은 비지도 학습이므로 X만 정의하면 된다.\n",
    "\n",
    "X = tf.placeholder(tf.float32, [None, hp_num_input])\n",
    "print(\"X:\", X)"
   ]
  },
  {
   "cell_type": "code",
   "execution_count": 3,
   "metadata": {},
   "outputs": [],
   "source": [
    "# 오토인코더는 인코더와 디코더를 만드는 것이 핵심이다.\n",
    "\n",
    "# 먼저 인코더부터 정의해보자\n",
    "# 인코더는 입력층에서 은닉층으로 가는 부분이다.\n",
    "W_encode = tf.Variable(tf.random_normal([hp_num_input, hp_num_hidden]))\n",
    "b_encode = tf.Variable(tf.random_normal([hp_num_hidden]))\n",
    "# 여기에서는 활성화 함수를 sigmoid 함수로 적용하도록 한다.\n",
    "encoder = tf.nn.sigmoid(tf.add(tf.matmul(X, W_encode), b_encode))\n",
    "\n",
    "# 그 다음은 디코더이다.\n",
    "W_decode = tf.Variable(tf.random_normal([hp_num_hidden, hp_num_input]))\n",
    "b_decode = tf.Variable(tf.random_normal([hp_num_input]))\n",
    "decoder = tf.nn.sigmoid(tf.add(tf.matmul(encoder, W_decode), b_decode))\n",
    "\n",
    "# 디코더의 출력층 크기는 입력층 크기와 같다."
   ]
  },
  {
   "cell_type": "code",
   "execution_count": 4,
   "metadata": {},
   "outputs": [],
   "source": [
    "# 이번에는 손실함수를 만들 차례이다.\n",
    "\n",
    "# 현재 만들고 있는 오토인코더의 목적은 출력값을 입력값과 가장 비슷하게 만드는 것이다.\n",
    "# 그렇게 함으로써 압축된 은닉층의 뉴런들을 통해서 입력값의 특징을 알아낼 수 있다.\n",
    "# 그러므로 입력값인 X를 평가하기 위한 실측값으로 이용하고, 이것과 디코더의 결과값의 차이를 손실값으로 설정하도록 한다.\n",
    "\n",
    "cost = tf.reduce_mean(tf.pow(X - decoder, 2))\n",
    "\n",
    "# 최적화 함수는 RMSPropOptimizer라는 함수를 사용한다.\n",
    "optimizer = tf.train.RMSPropOptimizer(hp_learning_rate).minimize(cost)"
   ]
  },
  {
   "cell_type": "code",
   "execution_count": 5,
   "metadata": {},
   "outputs": [
    {
     "name": "stdout",
     "output_type": "stream",
     "text": [
      "Epoch: 0001 Avg. cost = 0.200\n",
      "Epoch: 0002 Avg. cost = 0.057\n",
      "Epoch: 0003 Avg. cost = 0.048\n",
      "Epoch: 0004 Avg. cost = 0.043\n",
      "Epoch: 0005 Avg. cost = 0.040\n",
      "Epoch: 0006 Avg. cost = 0.037\n",
      "Epoch: 0007 Avg. cost = 0.036\n",
      "Epoch: 0008 Avg. cost = 0.035\n",
      "Epoch: 0009 Avg. cost = 0.035\n",
      "Epoch: 0010 Avg. cost = 0.033\n",
      "Epoch: 0011 Avg. cost = 0.033\n",
      "Epoch: 0012 Avg. cost = 0.032\n",
      "Epoch: 0013 Avg. cost = 0.032\n",
      "Epoch: 0014 Avg. cost = 0.032\n",
      "Epoch: 0015 Avg. cost = 0.032\n",
      "Epoch: 0016 Avg. cost = 0.031\n",
      "Epoch: 0017 Avg. cost = 0.031\n",
      "Epoch: 0018 Avg. cost = 0.031\n",
      "Epoch: 0019 Avg. cost = 0.031\n",
      "Epoch: 0020 Avg. cost = 0.030\n",
      "최적화 완료!\n"
     ]
    }
   ],
   "source": [
    "# 그리고 전때와 마찬가지로 학습을 진행하는 코드를 작성한다.\n",
    "# 단, 하이퍼 파라미터로 지정하였던 코드를 활용하도록 하자.\n",
    "\n",
    "# 세션 시작\n",
    "init = tf.global_variables_initializer()\n",
    "sess = tf.Session()\n",
    "sess.run(init)\n",
    "\n",
    "total_batch = int(mnist.train.num_examples / hp_batch_size)\n",
    "\n",
    "for epoch in range(hp_training_epoch):\n",
    "    total_cost = 0\n",
    "    \n",
    "    for i in range(total_batch):\n",
    "\n",
    "        batch_xs, batch_ys = mnist.train.next_batch(hp_batch_size)\n",
    "\n",
    "        _, cost_val = sess.run([optimizer, cost], feed_dict={X: batch_xs})\n",
    "        \n",
    "        total_cost += cost_val\n",
    "    \n",
    "    print('Epoch:', '%04d' % (epoch + 1), 'Avg. cost =', '{:.3f}'.format(total_cost / total_batch))\n",
    "    \n",
    "print('최적화 완료!')"
   ]
  },
  {
   "cell_type": "code",
   "execution_count": 6,
   "metadata": {},
   "outputs": [
    {
     "data": {
      "image/png": "[encoded data removed]",
      "text/plain": [
       "<Figure size 720x144 with 20 Axes>"
      ]
     },
     "metadata": {
      "needs_background": "light"
     },
     "output_type": "display_data"
    }
   ],
   "source": [
    "# 이번에는 결괏값을 정확도가 아닌 디코더로 생성해낸 결과를 직관적인 방법으로 확인해 보도록 하자.\n",
    "# matplotlib을 이용한다.\n",
    "\n",
    "sample_size = 10\n",
    "\n",
    "# MNIST 테스트 이미지중 샘플사이즈만큼의 테스트데이터를 가져와서 디코더 출력값을 만든다.\n",
    "samples = sess.run(decoder, feed_dict={X: mnist.test.images[:sample_size]})\n",
    "\n",
    "# 그 다음 numpy 모듈을 이용하여 MNIST 데이터를 28*28 이미지로 재구성하고,\n",
    "# matplotlib의 imshow()를 이용하여 그래프에 이미지로 출력한다.\n",
    "# 위에 값은 입력값, 아래 값은 신경망을 통해 생성된 이미지를 출력한다.\n",
    "\n",
    "fig, ax = plt.subplots(\n",
    "    2, \n",
    "    sample_size,\n",
    "    figsize=(sample_size, 2))\n",
    "\n",
    "for i in range(sample_size):\n",
    "    ax[0][i].set_axis_off()\n",
    "    ax[1][i].set_axis_off()\n",
    "    # 입력 이미지를 출력\n",
    "    ax[0][i].imshow(np.reshape(mnist.test.images[i], (28, 28)))\n",
    "    # 신경망을 통해 나온 이미지를 출력\n",
    "    ax[1][i].imshow(np.reshape(samples[i], (28, 28)))\n",
    "    \n",
    "plt.show()\n",
    "\n",
    "sess.close()"
   ]
  },
  {
   "cell_type": "code",
   "execution_count": null,
   "metadata": {},
   "outputs": [],
   "source": []
  }
 ],
 "metadata": {
  "kernelspec": {
   "display_name": "Python 3",
   "language": "python",
   "name": "python3"
  },
  "language_info": {
   "codemirror_mode": {
    "name": "ipython",
    "version": 3
   },
   "file_extension": ".py",
   "mimetype": "text/x-python",
   "name": "python",
   "nbconvert_exporter": "python",
   "pygments_lexer": "ipython3",
   "version": "3.6.7"
  }
 },
 "nbformat": 4,
 "nbformat_minor": 2
}
