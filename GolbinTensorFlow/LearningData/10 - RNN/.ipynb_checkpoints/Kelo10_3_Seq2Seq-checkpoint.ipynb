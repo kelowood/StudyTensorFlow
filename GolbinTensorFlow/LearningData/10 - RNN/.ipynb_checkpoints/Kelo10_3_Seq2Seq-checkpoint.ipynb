{
 "cells": [
  {
   "cell_type": "code",
   "execution_count": 1,
   "metadata": {},
   "outputs": [],
   "source": [
    "# Sequence to Sequence <Seq2Seq>\n",
    "# RNN 신경망과 출력하는 신경망을 조합한 모델\n",
    "# 번역이나 챗봇등에서 많이 사용된다.\n",
    "# 구글 기계번역에서도 이것을 사용하고 있다.\n",
    "\n",
    "# Seq2Seq 모델은 크게 두가지로 구성된다.\n",
    "# 1) 인코더 : 입력을 위한 신경망. 원문을 입력으로 받음.\n",
    "# 2) 디코더 : 출력을 위한 신경망. 인코더가 번역한 결과물을 입력으로 받음."
   ]
  },
  {
   "cell_type": "code",
   "execution_count": 2,
   "metadata": {},
   "outputs": [],
   "source": [
    "# Seq2Seq 심볼은 특수한 심볼이 몇개 필요하다. \n",
    "# (골빈해커책의 195 페이지 참조)\n",
    "# S 심볼 : 디코더에 입력이 시작됨을 알려주는 심볼\n",
    "# E 심볼 : 디코더의 출력이 끝났음을 알려주는 심볼\n",
    "# P 심볼 : 빈 데이터를 채울때 사용하는 무의미 심볼\n",
    "\n",
    "import tensorflow as tf\n",
    "import numpy as np\n",
    "\n",
    "# 이제 데이터를 만들어보자. 먼저 영어알파벳과 한글들을 나열한 뒤에 한글자씩 배열에 집어넣어보자.\n",
    "\n",
    "char_arr = [charcter for charcter in 'SEPabcdefghijklmnopqrstuvwxyz단어나무놀이소녀키스사랑']\n",
    "num_dic = {n: i for i , n in enumerate(char_arr)}\n",
    "dic_len = len(num_dic)\n",
    "\n",
    "seq_data = [\n",
    "    ['word', '단어'],\n",
    "    ['wood', '나무'],\n",
    "    ['game', '놀이'],\n",
    "    ['girl', '소녀'],\n",
    "    ['kiss', '키스'],\n",
    "    ['love', '사랑']\n",
    "]"
   ]
  },
  {
   "cell_type": "code",
   "execution_count": 3,
   "metadata": {},
   "outputs": [],
   "source": [
    "# 그다음 입력 단어와 출력 단어를 한글자씩 떼어내서 배열로 만든 다음,\n",
    "# 원-핫 인코딩 형태로 바꿔주는 함수를 만든다.\n",
    "# 리턴 데이터는 아래와 같이 3가지로 구성된다.\n",
    "# 1) 인코더의 입력값\n",
    "# 2) 디코더의 입력값\n",
    "# 3) 디코더의 출력값\n",
    "\n",
    "def MakeBatch(_seqData):\n",
    "    input_batch = []\n",
    "    output_batch = []\n",
    "    target_batch = []\n",
    "    \n",
    "    for iterSeq in _seqData:\n",
    "        # 인코더 입력값 : 입력단어('word')를 한글자씩 떼어서 인덱스 배열로 만든다.\n",
    "        inputData = [num_dic[n] for n in seq[0]]\n",
    "        # 디코더 입력값 : 출력단어('단어') 앞에 디코더 시작을 나타내는 S 글자를 붙인다.\n",
    "        # 그 후 한글자씩 떼어서 인덱스 배열로 만든다.\n",
    "        outputData = [num_dic[n] for n in ('S' + seq[1])]\n",
    "        # 디코더 출력값 : 출력단어('단어') 마지막에 디코더 끝을 알리는 심볼 'E' 글자를 붙인다.\n",
    "        # 그 후 한글자씩 떼어서 인덱스 배열로 만든다.\n",
    "        targetData = [num_dic[n] for n in (seq[1] + 'E')]\n",
    "        \n",
    "        # 인코더 입력값, 디코더 입력값은 원-핫 인코딩 형태로 인코딩하여 리스트에 추가하고,\n",
    "        # 디코더 출력값만 정수 인덱스 값 그대로 리스트에 추가한다.\n",
    "        input_batch.append(np.eye(dic_len)[inputData])\n",
    "        output_batch.append(np.eye(dic_len)[outputData])\n",
    "        target_batch.append(targetData)\n",
    "    \n",
    "    return input_batch, output_batch, target_batch       "
   ]
  },
  {
   "cell_type": "code",
   "execution_count": null,
   "metadata": {},
   "outputs": [],
   "source": [
    "# 하이퍼 파라미터의 정의\n",
    "\n",
    "hp_learning_rate = 0.01\n",
    "hp_n_hidden = 128\n",
    "hp_total_epoch = 100\n",
    "\n",
    "hp_n_class = hp_n_input = dic_len\n",
    "\n",
    "# 이제 플레이스홀더를 만들어보고자 한다.\n",
    "# 여기에서 인코더 및 디코더의 입력값 형식은 아래와 같다.\n",
    "# [batchSize, timeSteps, inputSize]\n",
    "\n",
    "# 그리고 디코더 출력값의 형식은 아래와 같다.\n",
    "# [batchSize, timeSteps]"
   ]
  }
 ],
 "metadata": {
  "kernelspec": {
   "display_name": "Python 3",
   "language": "python",
   "name": "python3"
  },
  "language_info": {
   "codemirror_mode": {
    "name": "ipython",
    "version": 3
   },
   "file_extension": ".py",
   "mimetype": "text/x-python",
   "name": "python",
   "nbconvert_exporter": "python",
   "pygments_lexer": "ipython3",
   "version": "3.6.3"
  }
 },
 "nbformat": 4,
 "nbformat_minor": 2
}
