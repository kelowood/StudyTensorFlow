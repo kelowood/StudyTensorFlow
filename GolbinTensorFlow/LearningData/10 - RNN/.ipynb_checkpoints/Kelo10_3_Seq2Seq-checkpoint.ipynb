{
 "cells": [
  {
   "cell_type": "code",
   "execution_count": 1,
   "metadata": {},
   "outputs": [],
   "source": [
    "# Sequence to Sequence <Seq2Seq>\n",
    "# RNN 신경망과 출력하는 신경망을 조합한 모델\n",
    "# 번역이나 챗봇등에서 많이 사용된다.\n",
    "# 구글 기계번역에서도 이것을 사용하고 있다.\n",
    "\n",
    "# Seq2Seq 모델은 크게 두가지로 구성된다.\n",
    "# 1) 인코더 : 입력을 위한 신경망. 원문을 입력으로 받음.\n",
    "# 2) 디코더 : 출력을 위한 신경망. 인코더가 번역한 결과물을 입력으로 받음."
   ]
  },
  {
   "cell_type": "code",
   "execution_count": null,
   "metadata": {},
   "outputs": [],
   "source": [
    "# Seq2Seq 심볼은 특수한 심볼이 몇개 필요하다. \n",
    "# (골빈해커책의 195 페이지 참조)\n",
    "# S 심볼 : 디코더에 입력이 시작됨을 알려주는 심볼\n",
    "# E 심볼 : 디코더의 출력이 끝났음을 알려주는 심볼\n",
    "# P 심볼 : 빈 데이터를 채울때 사용하는 무의미 심볼"
   ]
  }
 ],
 "metadata": {
  "kernelspec": {
   "display_name": "Python 3",
   "language": "python",
   "name": "python3"
  },
  "language_info": {
   "codemirror_mode": {
    "name": "ipython",
    "version": 3
   },
   "file_extension": ".py",
   "mimetype": "text/x-python",
   "name": "python",
   "nbconvert_exporter": "python",
   "pygments_lexer": "ipython3",
   "version": "3.6.3"
  }
 },
 "nbformat": 4,
 "nbformat_minor": 2
}
