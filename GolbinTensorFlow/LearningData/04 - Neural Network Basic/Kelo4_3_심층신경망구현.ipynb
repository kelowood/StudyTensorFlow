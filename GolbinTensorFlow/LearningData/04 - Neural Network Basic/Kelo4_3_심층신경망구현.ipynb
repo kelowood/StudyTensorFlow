{
 "cells": [
  {
   "cell_type": "code",
   "execution_count": 6,
   "metadata": {},
   "outputs": [],
   "source": [
    "# 이번에는 신경망을 둘 이상으로 구성한 심층 신경망, 즉, 딥러닝을 구현해보고자 한다.\n",
    "# 이번에 만드는 코드는 4.2 코드와 매우 유사하나 가중치와 편향이 하나 더 추가된다.\n",
    "\n",
    "import tensorflow as tf\n",
    "import numpy as np\n",
    "\n",
    "# 데이터 구성은 4.2와 동일하다.\n",
    "\n",
    "# 학습에 사용할 데이터를 정의한다.\n",
    "# [털, 날개]\n",
    "x_data = np.array([\n",
    "    [0, 0], \n",
    "    [1, 0], \n",
    "    [1, 1], \n",
    "    [0, 0], \n",
    "    [0, 0], \n",
    "    [0, 1]\n",
    "])\n",
    "\n",
    "# 기타 = [1, 0, 0]\n",
    "# 포유류 = [0, 1, 0]\n",
    "# 조류 = [0, 0, 1]\n",
    "\n",
    "y_data = np.array([\n",
    "    [1, 0, 0], # 기타\n",
    "    [0, 1, 0], # 포유류\n",
    "    [0, 0, 1], # 조류\n",
    "    [1, 0, 0], # 기타\n",
    "    [1, 0, 0], # 기타\n",
    "    [0, 0, 1]  # 조류\n",
    "])\n",
    "\n",
    "X = tf.placeholder(tf.float32)\n",
    "Y = tf.placeholder(tf.float32)"
   ]
  },
  {
   "cell_type": "code",
   "execution_count": 9,
   "metadata": {},
   "outputs": [],
   "source": [
    "# 가중치와 편향은 2개를 만든다.\n",
    "# 근데 또 다른 부분중 하나가 변수 생성의 셰이프 수가 다른걸 알 수 있다.\n",
    "# 첫번째 신경망의 셰이프가 [2, 10]이다. 특징의 수가 2이고, 10은 바로 은닉층의 갯수를 의미한다.\n",
    "# 은닉층은 하이퍼파라미터이며, 개발자가 적절한 수를 정할 수 있다. 이 값은 신경망 성능에 영향을 미친다.\n",
    "\n",
    "# 신경망 제1층\n",
    "W1 = tf.Variable(tf.random_uniform([2, 10], -1., 1.)) # [특징수, 은닉층뉴런수]\n",
    "b1 = tf.Variable(tf.zeros([10])) # [은닉층뉴런수]\n",
    "\n",
    "# 신경망 제2층\n",
    "W2 = tf.Variable(tf.random_uniform([10, 3], -1., 1.)) # [은닉층뉴런수, 분류수]\n",
    "b2 = tf.Variable(tf.zeros([3])) # [분류수]\n",
    "\n",
    "# 신경망 제 1층 : [6, 2] * [2, 10] => [6, 10] + [10] => [6, 10]\n",
    "# 6은 입력 갯수\n",
    "# 2는 특징 갯수\n",
    "# 10은 은닉층 갯수\n",
    " \n",
    "# 신경망 제 2층 : [6, 10] * [10, 3] => [6, 3] + [3] => [6, 3]\n",
    "# 6은 입력 갯수\n",
    "# 10은 은닉층 갯수\n",
    "# 3은 분류 갯수"
   ]
  },
  {
   "cell_type": "code",
   "execution_count": 10,
   "metadata": {},
   "outputs": [],
   "source": [
    "# 이제 신경망1층을 정의한다.\n",
    "# 신경망 1층에서는 활성화 함수를 적용하였다.\n",
    "L1 = tf.add(tf.matmul(X, W1), b1)\n",
    "L1 = tf.nn.relu(L1)\n",
    "\n",
    "# 신경망 2층을 정의하여 출력층을 만들도록 한다.\n",
    "model = tf.add(tf.matmul(L1, W2), b2)\n",
    "\n",
    "# 4.2의 신경망모델에서는 출력층에 활성화 함수 (ReLU)를 적용하였다.\n",
    "# 사실 보통은 출력층에 활성화 함수를 적용하지 않는다. \n",
    "# 하이퍼 파라미터와 마찬가지로 은닉층, 출력층에서 활성화 함수를 적용할지 말지, \n",
    "# 또한 어떤 활성화 함수를 적용할지의 결정은 경험, 실험적 요소로 결정되는 부분이다."
   ]
  },
  {
   "cell_type": "code",
   "execution_count": 12,
   "metadata": {},
   "outputs": [],
   "source": [
    "# 이번에는 손실함수를 텐서플로우가 기본적으로 제공하는 교차 엔트로피 함수를 이용해 보도록 하겠다.\n",
    "# 하지만 각 요소의 평균은 직접 내야 한다.\n",
    "cost = tf.reduce_mean(\n",
    "    tf.nn.softmax_cross_entropy_with_logits(\n",
    "        labels=Y, \n",
    "        logits=model))"
   ]
  },
  {
   "cell_type": "code",
   "execution_count": 13,
   "metadata": {},
   "outputs": [],
   "source": [
    "# 최적화 함수로는 이번에는 AdamOptimizer를 사용해본다.\n",
    "# AdamOptimizer는 앞서 사용하였던 GradientDescentOptimizer보다 보편적으로는 성능이 좋다고 알려져 있다.\n",
    "# 하지만 항상 그런것은 아니니 여러가지로 시도해 보아야 할 것이다.\n",
    "\n",
    "optimizer = tf.train.AdamOptimizer(learning_rate=0.01)\n",
    "train_op = optimizer.minimize(cost)"
   ]
  },
  {
   "cell_type": "code",
   "execution_count": 14,
   "metadata": {},
   "outputs": [
    {
     "name": "stdout",
     "output_type": "stream",
     "text": [
      "10 0.790044\n",
      "20 0.625303\n",
      "30 0.497496\n",
      "40 0.396973\n",
      "50 0.322728\n",
      "60 0.267345\n",
      "70 0.225667\n",
      "80 0.19333\n",
      "90 0.167507\n",
      "100 0.14676\n"
     ]
    }
   ],
   "source": [
    "# 이제 지난번과 동일한 방식으로 세션을 만들고 실행해보도로 하자.\n",
    "\n",
    "# 텐서플로우의 세션을 초기화한다.\n",
    "init = tf.global_variables_initializer()\n",
    "sess = tf.Session()\n",
    "sess.run(init)\n",
    "\n",
    "# 이제 100번을 반복해야 한다.\n",
    "for step in range(100):\n",
    "    # 학습 연산을 수행해보자\n",
    "    sess.run(train_op, feed_dict={X: x_data, Y: y_data})\n",
    "    \n",
    "    # 학습 도중 10번에 한번씩 손실 값을 출력해 본다.\n",
    "    if (step + 1) % 10 == 0:\n",
    "        print(step + 1, sess.run(cost, feed_dict={X: x_data, Y: y_data}))"
   ]
  },
  {
   "cell_type": "code",
   "execution_count": 15,
   "metadata": {},
   "outputs": [
    {
     "name": "stdout",
     "output_type": "stream",
     "text": [
      "예측값: [0 1 2 0 0 2]\n",
      "실제값: [0 1 2 0 0 2]\n"
     ]
    }
   ],
   "source": [
    "# 이제 학습된 결과를 확인해 보는 코드를 작성해보자\n",
    "prediction = tf.argmax(model, axis=1)\n",
    "target = tf.argmax(Y, axis=1)\n",
    "\n",
    "# tf.argmax()는 axis에 해당하는 차원의 요소들 중 가장 큰 값의 인덱스를 찾아준다.\n",
    "print('예측값:', sess.run(prediction, feed_dict={X: x_data}))\n",
    "print('실제값:', sess.run(target, feed_dict={Y: y_data}))"
   ]
  },
  {
   "cell_type": "code",
   "execution_count": 16,
   "metadata": {},
   "outputs": [
    {
     "name": "stdout",
     "output_type": "stream",
     "text": [
      "정확도: 100.00\n"
     ]
    }
   ],
   "source": [
    "# 마지막으로 정확도를 출력해보자\n",
    "is_correct = tf.equal(prediction, target)\n",
    "accuracy = tf.reduce_mean(tf.cast(is_correct, tf.float32))\n",
    "print('정확도: %.2f' % sess.run(accuracy * 100, feed_dict={X: x_data, Y: y_data}))\n",
    "\n",
    "# tf.equal()은 두개의 값이 같은지 다른지의 여부를 true, false값으로 리턴하는 함수이고\n",
    "# tf.cast()는 true, false 값을 1, 0 으로 바꾸는 함수이다.\n",
    "# 이렇게 나온 값을 평균내어 정확도를 구하게 된다."
   ]
  },
  {
   "cell_type": "code",
   "execution_count": null,
   "metadata": {},
   "outputs": [],
   "source": [
    "# 정확도가 100퍼센트가 나왔다!"
   ]
  }
 ],
 "metadata": {
  "kernelspec": {
   "display_name": "Python 3",
   "language": "python",
   "name": "python3"
  },
  "language_info": {
   "codemirror_mode": {
    "name": "ipython",
    "version": 3
   },
   "file_extension": ".py",
   "mimetype": "text/x-python",
   "name": "python",
   "nbconvert_exporter": "python",
   "pygments_lexer": "ipython3",
   "version": "3.6.3"
  }
 },
 "nbformat": 4,
 "nbformat_minor": 2
}
