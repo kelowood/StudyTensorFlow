{
 "cells": [
  {
   "cell_type": "code",
   "execution_count": 2,
   "metadata": {},
   "outputs": [
    {
     "name": "stdout",
     "output_type": "stream",
     "text": [
      "WARNING:tensorflow:From <ipython-input-2-bed9dddec7b6>:4: read_data_sets (from tensorflow.contrib.learn.python.learn.datasets.mnist) is deprecated and will be removed in a future version.\n",
      "Instructions for updating:\n",
      "Please use alternatives such as official/mnist/dataset.py from tensorflow/models.\n",
      "WARNING:tensorflow:From c:\\develop\\python\\python_3_6_7\\lib\\site-packages\\tensorflow\\contrib\\learn\\python\\learn\\datasets\\mnist.py:260: maybe_download (from tensorflow.contrib.learn.python.learn.datasets.base) is deprecated and will be removed in a future version.\n",
      "Instructions for updating:\n",
      "Please write your own downloading logic.\n",
      "WARNING:tensorflow:From c:\\develop\\python\\python_3_6_7\\lib\\site-packages\\tensorflow\\contrib\\learn\\python\\learn\\datasets\\mnist.py:262: extract_images (from tensorflow.contrib.learn.python.learn.datasets.mnist) is deprecated and will be removed in a future version.\n",
      "Instructions for updating:\n",
      "Please use tf.data to implement this functionality.\n",
      "Extracting ./mnist/data/train-images-idx3-ubyte.gz\n",
      "WARNING:tensorflow:From c:\\develop\\python\\python_3_6_7\\lib\\site-packages\\tensorflow\\contrib\\learn\\python\\learn\\datasets\\mnist.py:267: extract_labels (from tensorflow.contrib.learn.python.learn.datasets.mnist) is deprecated and will be removed in a future version.\n",
      "Instructions for updating:\n",
      "Please use tf.data to implement this functionality.\n",
      "Extracting ./mnist/data/train-labels-idx1-ubyte.gz\n",
      "WARNING:tensorflow:From c:\\develop\\python\\python_3_6_7\\lib\\site-packages\\tensorflow\\contrib\\learn\\python\\learn\\datasets\\mnist.py:110: dense_to_one_hot (from tensorflow.contrib.learn.python.learn.datasets.mnist) is deprecated and will be removed in a future version.\n",
      "Instructions for updating:\n",
      "Please use tf.one_hot on tensors.\n",
      "Extracting ./mnist/data/t10k-images-idx3-ubyte.gz\n",
      "Extracting ./mnist/data/t10k-labels-idx1-ubyte.gz\n",
      "WARNING:tensorflow:From c:\\develop\\python\\python_3_6_7\\lib\\site-packages\\tensorflow\\contrib\\learn\\python\\learn\\datasets\\mnist.py:290: DataSet.__init__ (from tensorflow.contrib.learn.python.learn.datasets.mnist) is deprecated and will be removed in a future version.\n",
      "Instructions for updating:\n",
      "Please use alternatives such as official/mnist/dataset.py from tensorflow/models.\n"
     ]
    }
   ],
   "source": [
    "import tensorflow as tf\n",
    "\n",
    "from tensorflow.examples.tutorials.mnist import input_data\n",
    "mnist = input_data.read_data_sets(\"./mnist/data/\", one_hot=True)\n"
   ]
  },
  {
   "cell_type": "code",
   "execution_count": 3,
   "metadata": {},
   "outputs": [],
   "source": [
    "# [이미지갯수, X축, Y축, 채널갯수]\n",
    "# 채널갯수란 색상 갯수를 뜻하며, 1인 이유는 색상이 딱 한개 (흑색) 들어가기 때문이다.\n",
    "X = tf.placeholder(tf.float32, [None, 28, 28, 1])\n",
    "Y = tf.placeholder(tf.float32, [None, 10])\n",
    "keep_prob = tf.placeholder(tf.float32)"
   ]
  },
  {
   "cell_type": "code",
   "execution_count": 4,
   "metadata": {},
   "outputs": [
    {
     "name": "stdout",
     "output_type": "stream",
     "text": [
      "W1              :  <tf.Variable 'Variable:0' shape=(3, 3, 1, 32) dtype=float32_ref>\n",
      "L1(Before pool) :  Tensor(\"Relu:0\", shape=(?, 28, 28, 32), dtype=float32)\n",
      "L1(After pool)  :  Tensor(\"MaxPool:0\", shape=(?, 14, 14, 32), dtype=float32)\n",
      "W2 :  <tf.Variable 'Variable_1:0' shape=(3, 3, 32, 64) dtype=float32_ref>\n",
      "L2(Before pool) :  Tensor(\"Relu_1:0\", shape=(?, 14, 14, 64), dtype=float32)\n",
      "L2(After pool)  :  Tensor(\"MaxPool_1:0\", shape=(?, 7, 7, 64), dtype=float32)\n"
     ]
    }
   ],
   "source": [
    "# CNN 계층 구성\n",
    "\n",
    "# tt.nn.conv2d() 의 매개변수\n",
    "# 이 함수는 2D 컨볼루션 연산을 한다.\n",
    "# 변수1 : input -> 입력값으로 4차원 텐서값이다.\n",
    "#         [배치, 높이값, 너비값, 채널값]\n",
    "# 변수2 : filter -> 필터(혹은 커널) 값으로 4차원 텐서값이다.\n",
    "#         [필터높이값, 필터너비값, 입력채널값, 출력채널값]\n",
    "#         여기서 출력채널값은 해당 갯수의 커널을 가진 컨볼루션 계층을 만들겠다는 얘기다.\n",
    "# 변수3 : strides -> 1차원 4길이의 int 리스트. 스트라이드 값의 설정이다.\n",
    "#         [1, 가로움직임량, 세로움직임량, 1]\n",
    "# 변수4 : padding -> SAME으로 설정하면 커널 슬라이딩시 이미지의 가장 외곽에서 한칸 밖으로 움직인다.\n",
    "\n",
    "# 먼저 3*3 크기의 32개의 커널을 가진 컨볼루션 계층을 만든다.\n",
    "# 또한 relu 활성화 함수를 적용시킨다.\n",
    "W1 = tf.Variable(tf.random_normal([3, 3, 1, 32], stddev=0.01))\n",
    "L1 = tf.nn.conv2d(X, W1, strides=[1, 1, 1, 1], padding='SAME')\n",
    "L1 = tf.nn.relu(L1)\n",
    "\n",
    "print('W1              : ', W1)\n",
    "print('L1(Before pool) : ', L1)\n",
    "\n",
    "# tt.nn.max_pool()의 매개변수\n",
    "# 입력값에 대한 최대값 풀링을 적용시킨다. 커널 사이즈 내에서 가장 큰값이 적용된다.\n",
    "# 변수1 : value -> 입력값으로 4차원 텐서이다. 기본적으로 NHWC 방식이 디폴트이다.\n",
    "#         [배치, 높이값, 너비값, 채널값]\n",
    "# 변수2 : ksize -> 1차원 4길이의 int 리스트. 윈도우 크기를 지정한다.\n",
    "# 변수3 : strides -> 1차원 4길이의 int 리스트, 스트라이드 값의 설정이다.\n",
    "# 변수4 : padding -> SAME으로 설정하면 커널 슬라이딩시 이미지의 가장 외곽에서 한칸 밖으로 움직인다.\n",
    "\n",
    "# 풀링 계층\n",
    "L1 = tf.nn.max_pool(L1, ksize=[1, 2, 2, 1], strides=[1, 2, 2, 1], padding='SAME')\n",
    "\n",
    "print('L1(After pool)  : ', L1)\n",
    "\n",
    "W2 = tf.Variable(tf.random_normal([3, 3, 32, 64], stddev=0.01))\n",
    "L2 = tf.nn.conv2d(L1, W2, strides=[1, 1, 1, 1], padding='SAME')\n",
    "L2 = tf.nn.relu(L2)\n",
    "\n",
    "print('W2              : ', W2)\n",
    "print('L2(Before pool) : ', L2)\n",
    "\n",
    "L2 = tf.nn.max_pool(L2, ksize=[1, 2, 2, 1], strides=[1, 2, 2, 1], padding='SAME')\n",
    "\n",
    "print('L2(After pool)  : ', L2)\n",
    "\n",
    "# 출력되는 값의 셰이프를 잘 확인해 보자.\n",
    "# 최종 출력 셰이프는 [배치크기, 7, 7, 64] 가 된다."
   ]
  },
  {
   "cell_type": "code",
   "execution_count": 5,
   "metadata": {},
   "outputs": [
    {
     "name": "stdout",
     "output_type": "stream",
     "text": [
      "W3                :  <tf.Variable 'Variable_2:0' shape=(3136, 256) dtype=float32_ref>\n",
      "L3(After reshape) :  Tensor(\"Reshape:0\", shape=(?, 3136), dtype=float32)\n",
      "L3(After dropout) :  Tensor(\"dropout/mul:0\", shape=(?, 256), dtype=float32)\n"
     ]
    }
   ],
   "source": [
    "# 세번째 부터는 추출한 가중치 적용을 하면서 특징의 차원을 줄이는 것을 해보도록 한다.\n",
    "\n",
    "# tf.reshape()\n",
    "# 입력값에 해당하는 텐서의 셰이프를 재구성하는 함수\n",
    "# 매개변수1 : tensor -> 셰이프를 재구성하고자 하는 텐서\n",
    "# 매개변수2 : shape -> 재구성하고자 하는 Shape 값\n",
    "#             만약 -1값이 들어갈 시에는 기존 텐서 셰이프의 차원의 값으로 들어간다.\n",
    "\n",
    "W3 = tf.Variable(tf.random_normal([7 * 7 * 64, 256], stddev=0.01))\n",
    "L3 = tf.reshape(L2, [-1, 7 * 7 * 64])\n",
    "\n",
    "print('W3                : ', W3)\n",
    "print('L3(After reshape) : ', L3)\n",
    "\n",
    "L3 = tf.matmul(L3, W3)\n",
    "L3 = tf.nn.relu(L3)\n",
    "L3 = tf.nn.dropout(L3, keep_prob)\n",
    "\n",
    "print('L3(After dropout) : ', L3)\n",
    "\n",
    "# [배치크기, 7, 7, 64] 셰이프였던 텐서가 reshape를 거치면서 [배치크기, 7 * 7 * 64]로 2차원 텐서으로 바뀌었다.\n",
    "# 즉 1차원 계층으로 줄은 것이다.\n",
    "# 즉 256개의 뉴런으로 연결하는 신경망이 구축된 것이다. \n",
    "# 위 같이 모든 뉴런과 상호연결된 계층을 완전 연결 계층 (fully connected layer)라고 한다.\n",
    "# 드롭아웃까지 거치고 나서는 [배치크기, 256] 으로 바뀌게 된다."
   ]
  },
  {
   "cell_type": "code",
   "execution_count": 7,
   "metadata": {},
   "outputs": [
    {
     "name": "stdout",
     "output_type": "stream",
     "text": [
      "W4                :  <tf.Variable 'Variable_4:0' shape=(256, 10) dtype=float32_ref>\n",
      "model             :  Tensor(\"MatMul_2:0\", shape=(?, 10), dtype=float32)\n"
     ]
    }
   ],
   "source": [
    "# 마지막 계층은 은닉층 L3를 최종 출력값 10개로 만드는 작업을 한다.\n",
    "W4 = tf.Variable(tf.random_normal([256, 10], stddev=0.01))\n",
    "model = tf.matmul(L3, W4)\n",
    "\n",
    "print('W4                : ', W4)\n",
    "print('model             : ', model)"
   ]
  },
  {
   "cell_type": "code",
   "execution_count": 8,
   "metadata": {},
   "outputs": [],
   "source": [
    "# 이제 손실함수와 AdamOptimizer 최적화 함수를 정의해보자\n",
    "\n",
    "cost = tf.reduce_mean(\n",
    "    tf.nn.softmax_cross_entropy_with_logits_v2(\n",
    "        logits=model,\n",
    "        labels=Y))\n",
    "optimizer = tf.train.AdamOptimizer(0.001).minimize(cost)"
   ]
  },
  {
   "cell_type": "code",
   "execution_count": 9,
   "metadata": {},
   "outputs": [
    {
     "name": "stdout",
     "output_type": "stream",
     "text": [
      "Epoch: 0001 Avg. cost = 0.352\n",
      "Epoch: 0002 Avg. cost = 0.106\n",
      "Epoch: 0003 Avg. cost = 0.075\n",
      "Epoch: 0004 Avg. cost = 0.059\n",
      "Epoch: 0005 Avg. cost = 0.049\n",
      "Epoch: 0006 Avg. cost = 0.044\n",
      "Epoch: 0007 Avg. cost = 0.036\n",
      "Epoch: 0008 Avg. cost = 0.031\n",
      "Epoch: 0009 Avg. cost = 0.028\n",
      "Epoch: 0010 Avg. cost = 0.025\n",
      "Epoch: 0011 Avg. cost = 0.023\n",
      "Epoch: 0012 Avg. cost = 0.020\n",
      "Epoch: 0013 Avg. cost = 0.019\n",
      "Epoch: 0014 Avg. cost = 0.017\n",
      "Epoch: 0015 Avg. cost = 0.016\n",
      "최적화 완료!\n"
     ]
    }
   ],
   "source": [
    "# 세션 시작 후 학습 처리는 6.2때와 매우 흡사하나 다른점이 있다.\n",
    "\n",
    "# 세션 시작\n",
    "init = tf.global_variables_initializer()\n",
    "sess = tf.Session()\n",
    "sess.run(init)\n",
    "\n",
    "batch_size = 100\n",
    "total_batch = int(mnist.train.num_examples / batch_size)\n",
    "\n",
    "for epoch in range(15):\n",
    "    total_cost = 0\n",
    "    \n",
    "    for i in range(total_batch):\n",
    "        # 반복문 안에서 배치 사이즈 만큼의 배치를 가져온다.\n",
    "        batch_xs, batch_ys = mnist.train.next_batch(batch_size)\n",
    "        \n",
    "        # 여기서 입력값의 셰이프는 [배치갯수, 28 * 28] 이었던 것을\n",
    "        # [배치갯수, 28, 28, 1]로 바꿔주어야 한다.\n",
    "        # 참고로 batch_xs.reshape()는 텐서가 아니므로 즉시 실행된다.\n",
    "        batch_xs = batch_xs.reshape(-1, 28, 28, 1)\n",
    "        \n",
    "        _, cost_val = sess.run(\n",
    "            [optimizer, cost], \n",
    "            feed_dict={X: batch_xs, Y: batch_ys, keep_prob: 0.7})\n",
    "        \n",
    "        total_cost += cost_val\n",
    "    \n",
    "    print('Epoch:', '%04d' % (epoch + 1), 'Avg. cost =', '{:.3f}'.format(total_cost / total_batch))\n",
    "    \n",
    "print('최적화 완료!')"
   ]
  },
  {
   "cell_type": "code",
   "execution_count": 12,
   "metadata": {},
   "outputs": [
    {
     "name": "stdout",
     "output_type": "stream",
     "text": [
      "정확도: 0.9892\n"
     ]
    }
   ],
   "source": [
    "# 학습결과를 확인해보자.\n",
    "\n",
    "is_correct = tf.equal(tf.argmax(model, 1), tf.argmax(Y, 1))\n",
    "accurary = tf.reduce_mean(tf.cast(is_correct, tf.float32))\n",
    "\n",
    "# 여기에서도 테스트 이미지에 대하여 reshape를 해주어야 한다.\n",
    "print('정확도:', sess.run(\n",
    "    accurary, \n",
    "    feed_dict={\n",
    "        X: mnist.test.images.reshape(-1, 28, 28, 1), \n",
    "        Y: mnist.test.labels,\n",
    "        keep_prob: 1}))\n",
    "\n",
    "sess.close()"
   ]
  },
  {
   "cell_type": "code",
   "execution_count": null,
   "metadata": {},
   "outputs": [],
   "source": []
  }
 ],
 "metadata": {
  "kernelspec": {
   "display_name": "Python 3",
   "language": "python",
   "name": "python3"
  },
  "language_info": {
   "codemirror_mode": {
    "name": "ipython",
    "version": 3
   },
   "file_extension": ".py",
   "mimetype": "text/x-python",
   "name": "python",
   "nbconvert_exporter": "python",
   "pygments_lexer": "ipython3",
   "version": "3.6.3"
  }
 },
 "nbformat": 4,
 "nbformat_minor": 2
}
