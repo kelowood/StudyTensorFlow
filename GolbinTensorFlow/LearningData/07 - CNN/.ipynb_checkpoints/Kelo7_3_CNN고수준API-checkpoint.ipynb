{
 "cells": [
  {
   "cell_type": "code",
   "execution_count": 6,
   "metadata": {},
   "outputs": [
    {
     "name": "stdout",
     "output_type": "stream",
     "text": [
      "Extracting ./mnist/data/train-images-idx3-ubyte.gz\n",
      "Extracting ./mnist/data/train-labels-idx1-ubyte.gz\n",
      "Extracting ./mnist/data/t10k-images-idx3-ubyte.gz\n",
      "Extracting ./mnist/data/t10k-labels-idx1-ubyte.gz\n"
     ]
    }
   ],
   "source": [
    "# 7.2장에서 만들었던 CNN에 대하여 layers 모듈을 이용하여 더 쉽게 구현할 수 있다.\n",
    "# 우선 플레이스 홀더 정의까지는 이전장과 똑같이 구현한다.\n",
    "\n",
    "import tensorflow as tf\n",
    "\n",
    "from tensorflow.examples.tutorials.mnist import input_data\n",
    "mnist = input_data.read_data_sets(\"./mnist/data/\", one_hot=True)\n",
    "\n",
    "# [이미지갯수, X축, Y축, 채널갯수]\n",
    "# 채널갯수란 색상 갯수를 뜻하며, 1인 이유는 색상이 딱 한개 (흑색) 들어가기 때문이다.\n",
    "X = tf.placeholder(tf.float32, [None, 28, 28, 1])\n",
    "Y = tf.placeholder(tf.float32, [None, 10])\n",
    "is_training = tf.placeholder(tf.bool)"
   ]
  },
  {
   "cell_type": "code",
   "execution_count": 7,
   "metadata": {},
   "outputs": [
    {
     "name": "stdout",
     "output_type": "stream",
     "text": [
      "L1(After Convolution) :  Tensor(\"conv2d_4/Relu:0\", shape=(?, 28, 28, 32), dtype=float32)\n",
      "L1(After MaxPooling)  :  Tensor(\"max_pooling2d_4/MaxPool:0\", shape=(?, 14, 14, 32), dtype=float32)\n",
      "L1(After Dropout)     :  Tensor(\"dropout/Identity:0\", shape=(?, 14, 14, 32), dtype=float32)\n",
      "L2(After Convolution) :  Tensor(\"conv2d_5/Relu:0\", shape=(?, 14, 14, 64), dtype=float32)\n",
      "L2(After MaxPooling)  :  Tensor(\"max_pooling2d_5/MaxPool:0\", shape=(?, 7, 7, 64), dtype=float32)\n",
      "L2(After Dropout)     :  Tensor(\"dropout_2/Identity:0\", shape=(?, 7, 7, 64), dtype=float32)\n"
     ]
    }
   ],
   "source": [
    "# 컨볼루션 계층 + 풀링 게층의 구현 부분이다.\n",
    "\n",
    "# 본래 7.2장에서는 아래의 코드였다.\n",
    "# W1 = tf.Variable(tf.random_normal([3, 3, 1, 32], stddev=0.01))\n",
    "# L1 = tf.nn.conv2d(X, W1, strides=[1, 1, 1, 1], padding='SAME')\n",
    "# L1 = tf.nn.relu(L1)\n",
    "# L1 = tf.nn.max_pool(L1, ksize=[1, 2, 2, 1], strides=[1, 2, 2, 1], padding='SAME')\n",
    "\n",
    "# 위의 것을 아래 형태로 간단하게 바꿀 수 있다.\n",
    "L1 = tf.layers.conv2d(\n",
    "    X, \n",
    "    32, \n",
    "    [3, 3], \n",
    "    activation=tf.nn.relu, \n",
    "    padding='SAME')\n",
    "print (\"L1(After Convolution) : \", L1)\n",
    "\n",
    "L1 = tf.layers.max_pooling2d(\n",
    "    L1,\n",
    "    [2, 2],\n",
    "    [2, 2],\n",
    "    padding='SAME')\n",
    "print (\"L1(After MaxPooling)  : \", L1)\n",
    "\n",
    "L1 = tf.layers.dropout(L1, 0.7, is_training)\n",
    "print (\"L1(After Dropout)     : \", L1)\n",
    "\n",
    "# 위의 함수에 대하여 하나하나 설명해보자\n",
    "\n",
    "# tf.layers.conv2d()\n",
    "# 2차원 컨볼루션 계층을 만드는 텐서\n",
    "# 매개변수\n",
    "# inputs : 텐서 입력\n",
    "# filters : 컨볼루션 계층을 수행할 필터의 갯수.\n",
    "# kernal_size : 커널(필터)의 사이즈 int 값 두개 형태로 [높이, 너비]로 구성된 배열 값을 넣는다.\n",
    "# strides : 스트라이드 값 [높이, 너비] 형태의 배열값을 넣으며, 해당 값 만큼 윈도우를 움직인다.\n",
    "# activation : 활성화 함수. 적용할 활성화 함수를 명시한다.\n",
    "# padding : tf.nn.conv2d()의 padding 매개변수와 동일.\n",
    "# 리턴값 : 컨볼루션 계층 수행 텐서\n",
    "\n",
    "# tf.layers.max_pooling2d()\n",
    "# 2차원 최대값 풀링을 수행하는 텐서\n",
    "# 매개변수\n",
    "# inputs : 입력 텐서. 4랭크를 가진 텐서여야 한다.\n",
    "# pool_size : 풀의 사이즈 [높이, 너비] 형태의 int 배열로 구성된다.\n",
    "# strides : 스트라이드값 [높이이동값, 너비이동값] 형태의 int 배열로 구성된다.\n",
    "# padding : tf.nn.max_pool()의 padding 매개변수와 동일\n",
    "# 리턴값 : 풀링 계층 수행 텐서\n",
    "\n",
    "# 위의 형태와 같이 편하게 코드 작성이 가능하다.\n",
    "\n",
    "L2 = tf.layers.conv2d(\n",
    "    L1, \n",
    "    64, \n",
    "    [3, 3], \n",
    "    activation=tf.nn.relu,\n",
    "    padding='SAME')\n",
    "print (\"L2(After Convolution) : \", L2)\n",
    "\n",
    "L2 = tf.layers.max_pooling2d(\n",
    "    L2,\n",
    "    [2, 2],\n",
    "    [2, 2],\n",
    "    padding='SAME')\n",
    "print (\"L2(After MaxPooling)  : \", L2)\n",
    "\n",
    "L2 = tf.layers.dropout(L2, 0.7, is_training)\n",
    "print (\"L2(After Dropout)     : \", L2)"
   ]
  },
  {
   "cell_type": "code",
   "execution_count": 9,
   "metadata": {},
   "outputs": [
    {
     "name": "stdout",
     "output_type": "stream",
     "text": [
      "L3(After flatten)     :  Tensor(\"Flatten_1/flatten/Reshape:0\", shape=(?, 3136), dtype=float32)\n",
      "L3(After dense)       :  Tensor(\"dense_2/Relu:0\", shape=(?, 256), dtype=float32)\n",
      "L3(After Dropout)     :  Tensor(\"dropout_3/Identity:0\", shape=(?, 256), dtype=float32)\n"
     ]
    }
   ],
   "source": [
    "# 완전 연결 계층 부분의 구현 부분이다.\n",
    "\n",
    "# 기존코드는 아래와 같다.\n",
    "# W3 = tf.Variable(tf.random_normal([7 * 7 * 64, 256], stddev=0.01))\n",
    "# L3 = tf.reshape(L2, [-1, 7 * 7 * 64])\n",
    "# L3 = tf.matmul(L3, W3)\n",
    "# L3 = tf.nn.relu(L3)\n",
    "# L3 = tf.nn.dropout(L3, keep_prob)\n",
    "\n",
    "# 위의 것을 아래처럼 간단히 바꿀 수 있다.\n",
    "L3 = tf.contrib.layers.flatten(L2)\n",
    "print (\"L3(After flatten)     : \", L3)\n",
    "\n",
    "L3 = tf.layers.dense(L3, 256, activation=tf.nn.relu)\n",
    "print (\"L3(After dense)       : \", L3)\n",
    "\n",
    "L3 = tf.layers.dropout(L3, 0.5, is_training)\n",
    "print (\"L3(After Dropout)     : \", L3)\n",
    "\n",
    "# tf.contrib.layers.flatten()\n",
    "# 텐서를 평평하게 만드는 함수.\n",
    "# 쉽게 말하자면 [배치갯수, k]의 2랭크 텐서로 Reshape해주는 함수다.\n",
    "# 매개변수\n",
    "# inputs : 입력 텐서. [배치크기, ...] 의 형태로 이루어져 있어야 한다.\n",
    "\n",
    "# tf.layers.dense()\n",
    "# 완전 연결 계층을 수행하는 함수\n",
    "# 매개변수\n",
    "# inputs : 텐서 입력\n",
    "# units : integer 혹은 long 값. 출력되는 뉴런 갯수\n",
    "# activation : 활성화 함수"
   ]
  },
  {
   "cell_type": "code",
   "execution_count": 11,
   "metadata": {},
   "outputs": [
    {
     "name": "stdout",
     "output_type": "stream",
     "text": [
      "model                 :  Tensor(\"dense_4/BiasAdd:0\", shape=(?, 10), dtype=float32)\n"
     ]
    }
   ],
   "source": [
    "# 마지막으로 최종 출력 계층이다.\n",
    "# tf.layers.dense()를 활용하자.\n",
    "\n",
    "model = tf.layers.dense(L3, 10, activation=None)\n",
    "print (\"model                 : \", model)"
   ]
  },
  {
   "cell_type": "code",
   "execution_count": 13,
   "metadata": {},
   "outputs": [],
   "source": [
    "# 나머지는 7.2때와 거의 동일하다.\n",
    "\n",
    "cost = tf.reduce_mean(\n",
    "    tf.nn.softmax_cross_entropy_with_logits(\n",
    "        logits=model,\n",
    "        labels=Y))\n",
    "optimizer = tf.train.AdamOptimizer(0.001).minimize(cost)"
   ]
  },
  {
   "cell_type": "code",
   "execution_count": 15,
   "metadata": {},
   "outputs": [
    {
     "name": "stdout",
     "output_type": "stream",
     "text": [
      "Epoch: 0001 Avg. cost = 0.162\n",
      "Epoch: 0002 Avg. cost = 0.046\n",
      "Epoch: 0003 Avg. cost = 0.032\n",
      "Epoch: 0004 Avg. cost = 0.023\n",
      "Epoch: 0005 Avg. cost = 0.017\n",
      "Epoch: 0006 Avg. cost = 0.014\n",
      "Epoch: 0007 Avg. cost = 0.010\n",
      "Epoch: 0008 Avg. cost = 0.009\n",
      "Epoch: 0009 Avg. cost = 0.007\n",
      "Epoch: 0010 Avg. cost = 0.006\n",
      "Epoch: 0011 Avg. cost = 0.007\n",
      "Epoch: 0012 Avg. cost = 0.005\n",
      "Epoch: 0013 Avg. cost = 0.004\n",
      "Epoch: 0014 Avg. cost = 0.004\n",
      "Epoch: 0015 Avg. cost = 0.004\n",
      "최적화 완료!\n"
     ]
    }
   ],
   "source": [
    "# 세션 시작\n",
    "init = tf.global_variables_initializer()\n",
    "sess = tf.Session()\n",
    "sess.run(init)\n",
    "\n",
    "batch_size = 100\n",
    "total_batch = int(mnist.train.num_examples / batch_size)\n",
    "\n",
    "for epoch in range(15):\n",
    "    total_cost = 0\n",
    "    \n",
    "    for i in range(total_batch):\n",
    "        # 반복문 안에서 배치 사이즈 만큼의 배치를 가져온다.\n",
    "        batch_xs, batch_ys = mnist.train.next_batch(batch_size)\n",
    "        \n",
    "        # 여기서 입력값의 셰이프는 [배치갯수, 28 * 28] 이었던 것을\n",
    "        # [배치갯수, 28, 28, 1]로 바꿔주어야 한다.\n",
    "        # 참고로 batch_xs.reshape()는 텐서가 아니므로 즉시 실행된다.\n",
    "        batch_xs = batch_xs.reshape(-1, 28, 28, 1)\n",
    "        \n",
    "        _, cost_val = sess.run(\n",
    "            [optimizer, cost], \n",
    "            feed_dict={X: batch_xs, Y: batch_ys, is_training: True})\n",
    "        \n",
    "        total_cost += cost_val\n",
    "    \n",
    "    print('Epoch:', '%04d' % (epoch + 1), 'Avg. cost =', '{:.3f}'.format(total_cost / total_batch))\n",
    "    \n",
    "print('최적화 완료!')"
   ]
  },
  {
   "cell_type": "code",
   "execution_count": 16,
   "metadata": {},
   "outputs": [
    {
     "name": "stdout",
     "output_type": "stream",
     "text": [
      "정확도: 0.9912\n"
     ]
    }
   ],
   "source": [
    "# 학습결과를 확인해보자.\n",
    "\n",
    "is_correct = tf.equal(tf.argmax(model, 1), tf.argmax(Y, 1))\n",
    "accurary = tf.reduce_mean(tf.cast(is_correct, tf.float32))\n",
    "\n",
    "# 여기에서도 테스트 이미지에 대하여 reshape를 해주어야 한다.\n",
    "print('정확도:', sess.run(\n",
    "    accurary, \n",
    "    feed_dict={\n",
    "        X: mnist.test.images.reshape(-1, 28, 28, 1), \n",
    "        Y: mnist.test.labels,\n",
    "        is_training: False}))\n",
    "\n",
    "sess.close()"
   ]
  }
 ],
 "metadata": {
  "kernelspec": {
   "display_name": "Python 3",
   "language": "python",
   "name": "python3"
  },
  "language_info": {
   "codemirror_mode": {
    "name": "ipython",
    "version": 3
   },
   "file_extension": ".py",
   "mimetype": "text/x-python",
   "name": "python",
   "nbconvert_exporter": "python",
   "pygments_lexer": "ipython3",
   "version": "3.6.3"
  }
 },
 "nbformat": 4,
 "nbformat_minor": 2
}
